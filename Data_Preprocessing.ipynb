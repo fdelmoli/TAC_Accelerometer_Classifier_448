{
 "cells": [
  {
   "cell_type": "markdown",
   "metadata": {},
   "source": [
    "# Detecting Heavy Drinking Data Preprocessing"
   ]
  },
  {
   "cell_type": "code",
   "execution_count": 1,
   "metadata": {},
   "outputs": [],
   "source": [
    "import numpy as np\n",
    "import pandas as pd\n",
    "import matplotlib.pyplot as plt\n",
    "import seaborn as sns\n",
    "from datetime import datetime\n",
    "\n",
    "from tqdm import tqdm"
   ]
  },
  {
   "cell_type": "markdown",
   "metadata": {},
   "source": [
    "## Gathering Accelerometer Data"
   ]
  },
  {
   "cell_type": "code",
   "execution_count": 2,
   "metadata": {},
   "outputs": [],
   "source": [
    "accel_data = pd.read_parquet(\"all_accelerometer_data.parquet\")"
   ]
  },
  {
   "cell_type": "code",
   "execution_count": 3,
   "metadata": {},
   "outputs": [
    {
     "data": {
      "text/html": [
       "<div>\n",
       "<style scoped>\n",
       "    .dataframe tbody tr th:only-of-type {\n",
       "        vertical-align: middle;\n",
       "    }\n",
       "\n",
       "    .dataframe tbody tr th {\n",
       "        vertical-align: top;\n",
       "    }\n",
       "\n",
       "    .dataframe thead th {\n",
       "        text-align: right;\n",
       "    }\n",
       "</style>\n",
       "<table border=\"1\" class=\"dataframe\">\n",
       "  <thead>\n",
       "    <tr style=\"text-align: right;\">\n",
       "      <th></th>\n",
       "      <th>time</th>\n",
       "      <th>pid</th>\n",
       "      <th>x</th>\n",
       "      <th>y</th>\n",
       "      <th>z</th>\n",
       "    </tr>\n",
       "  </thead>\n",
       "  <tbody>\n",
       "    <tr>\n",
       "      <th>0</th>\n",
       "      <td>2017-05-02 14:04:42.409</td>\n",
       "      <td>SA0297</td>\n",
       "      <td>0.075800</td>\n",
       "      <td>0.027300</td>\n",
       "      <td>-0.010200</td>\n",
       "    </tr>\n",
       "    <tr>\n",
       "      <th>1</th>\n",
       "      <td>2017-05-02 14:04:42.455</td>\n",
       "      <td>SA0297</td>\n",
       "      <td>-0.035900</td>\n",
       "      <td>0.079400</td>\n",
       "      <td>0.003700</td>\n",
       "    </tr>\n",
       "    <tr>\n",
       "      <th>2</th>\n",
       "      <td>2017-05-02 14:04:42.500</td>\n",
       "      <td>SA0297</td>\n",
       "      <td>-0.242700</td>\n",
       "      <td>-0.086100</td>\n",
       "      <td>-0.016300</td>\n",
       "    </tr>\n",
       "    <tr>\n",
       "      <th>3</th>\n",
       "      <td>2017-05-02 14:04:43.945</td>\n",
       "      <td>SA0297</td>\n",
       "      <td>-0.288800</td>\n",
       "      <td>0.051400</td>\n",
       "      <td>-0.014500</td>\n",
       "    </tr>\n",
       "    <tr>\n",
       "      <th>4</th>\n",
       "      <td>2017-05-02 14:04:43.953</td>\n",
       "      <td>SA0297</td>\n",
       "      <td>-0.041300</td>\n",
       "      <td>-0.018400</td>\n",
       "      <td>-0.010500</td>\n",
       "    </tr>\n",
       "    <tr>\n",
       "      <th>...</th>\n",
       "      <td>...</td>\n",
       "      <td>...</td>\n",
       "      <td>...</td>\n",
       "      <td>...</td>\n",
       "      <td>...</td>\n",
       "    </tr>\n",
       "    <tr>\n",
       "      <th>14057560</th>\n",
       "      <td>2017-05-03 16:34:08.196</td>\n",
       "      <td>CC6740</td>\n",
       "      <td>-0.133956</td>\n",
       "      <td>0.124726</td>\n",
       "      <td>-0.010736</td>\n",
       "    </tr>\n",
       "    <tr>\n",
       "      <th>14057561</th>\n",
       "      <td>2017-05-03 16:34:08.220</td>\n",
       "      <td>CC6740</td>\n",
       "      <td>-0.100764</td>\n",
       "      <td>0.180872</td>\n",
       "      <td>0.046449</td>\n",
       "    </tr>\n",
       "    <tr>\n",
       "      <th>14057562</th>\n",
       "      <td>2017-05-03 16:34:08.245</td>\n",
       "      <td>CC6740</td>\n",
       "      <td>-0.131853</td>\n",
       "      <td>0.195934</td>\n",
       "      <td>0.181088</td>\n",
       "    </tr>\n",
       "    <tr>\n",
       "      <th>14057563</th>\n",
       "      <td>2017-05-03 16:34:08.270</td>\n",
       "      <td>CC6740</td>\n",
       "      <td>-0.149704</td>\n",
       "      <td>0.194482</td>\n",
       "      <td>0.202393</td>\n",
       "    </tr>\n",
       "    <tr>\n",
       "      <th>14057564</th>\n",
       "      <td>2017-05-03 16:34:08.294</td>\n",
       "      <td>CC6740</td>\n",
       "      <td>-0.107288</td>\n",
       "      <td>0.153548</td>\n",
       "      <td>0.168595</td>\n",
       "    </tr>\n",
       "  </tbody>\n",
       "</table>\n",
       "<p>14057565 rows × 5 columns</p>\n",
       "</div>"
      ],
      "text/plain": [
       "                            time     pid         x         y         z\n",
       "0        2017-05-02 14:04:42.409  SA0297  0.075800  0.027300 -0.010200\n",
       "1        2017-05-02 14:04:42.455  SA0297 -0.035900  0.079400  0.003700\n",
       "2        2017-05-02 14:04:42.500  SA0297 -0.242700 -0.086100 -0.016300\n",
       "3        2017-05-02 14:04:43.945  SA0297 -0.288800  0.051400 -0.014500\n",
       "4        2017-05-02 14:04:43.953  SA0297 -0.041300 -0.018400 -0.010500\n",
       "...                          ...     ...       ...       ...       ...\n",
       "14057560 2017-05-03 16:34:08.196  CC6740 -0.133956  0.124726 -0.010736\n",
       "14057561 2017-05-03 16:34:08.220  CC6740 -0.100764  0.180872  0.046449\n",
       "14057562 2017-05-03 16:34:08.245  CC6740 -0.131853  0.195934  0.181088\n",
       "14057563 2017-05-03 16:34:08.270  CC6740 -0.149704  0.194482  0.202393\n",
       "14057564 2017-05-03 16:34:08.294  CC6740 -0.107288  0.153548  0.168595\n",
       "\n",
       "[14057565 rows x 5 columns]"
      ]
     },
     "execution_count": 3,
     "metadata": {},
     "output_type": "execute_result"
    }
   ],
   "source": [
    "accel_data"
   ]
  },
  {
   "cell_type": "markdown",
   "metadata": {},
   "source": [
    "## Gathering TAC Data"
   ]
  },
  {
   "cell_type": "code",
   "execution_count": 4,
   "metadata": {},
   "outputs": [
    {
     "data": {
      "text/plain": [
       "['SA0297',\n",
       " 'PC6771',\n",
       " 'BK7610',\n",
       " 'DC6359',\n",
       " 'MC7070',\n",
       " 'MJ8002',\n",
       " 'BU4707',\n",
       " 'JR8022',\n",
       " 'HV0618',\n",
       " 'SF3079',\n",
       " 'JB3156',\n",
       " 'CC6740',\n",
       " 'DK3500']"
      ]
     },
     "execution_count": 4,
     "metadata": {},
     "output_type": "execute_result"
    }
   ],
   "source": [
    "pids = list(accel_data['pid'].unique())\n",
    "pids"
   ]
  },
  {
   "cell_type": "code",
   "execution_count": null,
   "metadata": {},
   "outputs": [],
   "source": [
    "pid_tac_dfs = []\n",
    "\n",
    "for pid in pids:\n",
    "    pid_tac = pd.read_csv(f\"data/clean_tac/{pid}_clean_TAC.csv\")\n",
    "    pid_tac = pid_tac.rename(columns={\"timestamp\":\"time\"})\n",
    "    pid_tac['time'] = pd.to_datetime(pid_tac['time'], unit='s')\n",
    "    pid_tac['pid'] = pid\n",
    "    pid_tac = pid_tac[['time', 'pid', 'TAC_Reading']]\n",
    "\n",
    "    pid_tac_dfs.append(pid_tac)"
   ]
  },
  {
   "cell_type": "code",
   "execution_count": null,
   "metadata": {},
   "outputs": [],
   "source": [
    "all_tac_df = pd.concat(pid_tac_dfs, axis=0)"
   ]
  },
  {
   "cell_type": "code",
   "execution_count": null,
   "metadata": {},
   "outputs": [],
   "source": [
    "all_tac_df['TAC_class'] = 0\n",
    "all_tac_df.loc[all_tac_df['TAC_Reading'] >= 0.08, 'TAC_class'] = 1"
   ]
  },
  {
   "cell_type": "code",
   "execution_count": null,
   "metadata": {},
   "outputs": [
    {
     "data": {
      "text/html": [
       "<div>\n",
       "<style scoped>\n",
       "    .dataframe tbody tr th:only-of-type {\n",
       "        vertical-align: middle;\n",
       "    }\n",
       "\n",
       "    .dataframe tbody tr th {\n",
       "        vertical-align: top;\n",
       "    }\n",
       "\n",
       "    .dataframe thead th {\n",
       "        text-align: right;\n",
       "    }\n",
       "</style>\n",
       "<table border=\"1\" class=\"dataframe\">\n",
       "  <thead>\n",
       "    <tr style=\"text-align: right;\">\n",
       "      <th></th>\n",
       "      <th>time</th>\n",
       "      <th>pid</th>\n",
       "      <th>TAC_Reading</th>\n",
       "      <th>TAC_class</th>\n",
       "    </tr>\n",
       "  </thead>\n",
       "  <tbody>\n",
       "    <tr>\n",
       "      <th>0</th>\n",
       "      <td>2017-05-02 09:18:43</td>\n",
       "      <td>SA0297</td>\n",
       "      <td>-0.010229</td>\n",
       "      <td>0</td>\n",
       "    </tr>\n",
       "    <tr>\n",
       "      <th>1</th>\n",
       "      <td>2017-05-02 09:49:06</td>\n",
       "      <td>SA0297</td>\n",
       "      <td>-0.002512</td>\n",
       "      <td>0</td>\n",
       "    </tr>\n",
       "    <tr>\n",
       "      <th>2</th>\n",
       "      <td>2017-05-02 09:54:23</td>\n",
       "      <td>SA0297</td>\n",
       "      <td>0.003249</td>\n",
       "      <td>0</td>\n",
       "    </tr>\n",
       "    <tr>\n",
       "      <th>3</th>\n",
       "      <td>2017-05-02 09:59:39</td>\n",
       "      <td>SA0297</td>\n",
       "      <td>0.005404</td>\n",
       "      <td>0</td>\n",
       "    </tr>\n",
       "    <tr>\n",
       "      <th>4</th>\n",
       "      <td>2017-05-02 10:04:55</td>\n",
       "      <td>SA0297</td>\n",
       "      <td>0.003377</td>\n",
       "      <td>0</td>\n",
       "    </tr>\n",
       "    <tr>\n",
       "      <th>...</th>\n",
       "      <td>...</td>\n",
       "      <td>...</td>\n",
       "      <td>...</td>\n",
       "      <td>...</td>\n",
       "    </tr>\n",
       "    <tr>\n",
       "      <th>46</th>\n",
       "      <td>2017-05-03 07:34:28</td>\n",
       "      <td>DK3500</td>\n",
       "      <td>0.011820</td>\n",
       "      <td>0</td>\n",
       "    </tr>\n",
       "    <tr>\n",
       "      <th>47</th>\n",
       "      <td>2017-05-03 08:04:52</td>\n",
       "      <td>DK3500</td>\n",
       "      <td>0.011012</td>\n",
       "      <td>0</td>\n",
       "    </tr>\n",
       "    <tr>\n",
       "      <th>48</th>\n",
       "      <td>2017-05-03 08:35:16</td>\n",
       "      <td>DK3500</td>\n",
       "      <td>0.010660</td>\n",
       "      <td>0</td>\n",
       "    </tr>\n",
       "    <tr>\n",
       "      <th>49</th>\n",
       "      <td>2017-05-03 09:05:38</td>\n",
       "      <td>DK3500</td>\n",
       "      <td>0.011030</td>\n",
       "      <td>0</td>\n",
       "    </tr>\n",
       "    <tr>\n",
       "      <th>50</th>\n",
       "      <td>2017-05-03 09:36:01</td>\n",
       "      <td>DK3500</td>\n",
       "      <td>0.011943</td>\n",
       "      <td>0</td>\n",
       "    </tr>\n",
       "  </tbody>\n",
       "</table>\n",
       "<p>715 rows × 4 columns</p>\n",
       "</div>"
      ],
      "text/plain": [
       "                  time     pid  TAC_Reading  TAC_class\n",
       "0  2017-05-02 09:18:43  SA0297    -0.010229          0\n",
       "1  2017-05-02 09:49:06  SA0297    -0.002512          0\n",
       "2  2017-05-02 09:54:23  SA0297     0.003249          0\n",
       "3  2017-05-02 09:59:39  SA0297     0.005404          0\n",
       "4  2017-05-02 10:04:55  SA0297     0.003377          0\n",
       "..                 ...     ...          ...        ...\n",
       "46 2017-05-03 07:34:28  DK3500     0.011820          0\n",
       "47 2017-05-03 08:04:52  DK3500     0.011012          0\n",
       "48 2017-05-03 08:35:16  DK3500     0.010660          0\n",
       "49 2017-05-03 09:05:38  DK3500     0.011030          0\n",
       "50 2017-05-03 09:36:01  DK3500     0.011943          0\n",
       "\n",
       "[715 rows x 4 columns]"
      ]
     },
     "execution_count": 20,
     "metadata": {},
     "output_type": "execute_result"
    }
   ],
   "source": [
    "all_tac_df"
   ]
  },
  {
   "cell_type": "code",
   "execution_count": null,
   "metadata": {},
   "outputs": [],
   "source": [
    "# all_tac_df.to_parquet(\"all_tac_data.parquet\")"
   ]
  },
  {
   "cell_type": "code",
   "execution_count": null,
   "metadata": {},
   "outputs": [],
   "source": [
    "all_tac_df = pd.read_parquet(\"all_tac_data.parquet\")"
   ]
  },
  {
   "cell_type": "markdown",
   "metadata": {},
   "source": [
    "## Reconciling Feature and Target Data"
   ]
  },
  {
   "cell_type": "code",
   "execution_count": 40,
   "metadata": {},
   "outputs": [],
   "source": [
    "# adding a mergable \"second\" column\n",
    "accel_data['seconds'] = accel_data['time'].dt.floor('s')\n",
    "all_tac_df = all_tac_df.rename(columns={\"time\": \"seconds\"})"
   ]
  },
  {
   "cell_type": "code",
   "execution_count": 42,
   "metadata": {},
   "outputs": [],
   "source": [
    "merged_df = pd.merge(accel_data, all_tac_df, on=['pid', 'seconds'], how=\"left\")"
   ]
  },
  {
   "cell_type": "code",
   "execution_count": 48,
   "metadata": {},
   "outputs": [],
   "source": [
    "merged_df.drop(columns=['seconds', 'TAC_Reading'], inplace=True)"
   ]
  },
  {
   "cell_type": "code",
   "execution_count": 51,
   "metadata": {},
   "outputs": [],
   "source": [
    "# assigning the first reading of each pid to be 0 (sober) before forward filling\n",
    "\n",
    "merged_df['pid_count'] = merged_df.groupby('pid').cumcount()\n",
    "merged_df.loc[merged_df['pid_count'] == 0, 'TAC_class'] = 0\n",
    "merged_df.drop(columns='pid_count', inplace=True)"
   ]
  },
  {
   "cell_type": "code",
   "execution_count": 54,
   "metadata": {},
   "outputs": [],
   "source": [
    "# forward filling the TAC_class field\n",
    "# start sober, sober util intoxicated read, intoxicated until next sober reading\n",
    "\n",
    "merged_df['TAC_class'] = merged_df['TAC_class'].fillna(method='ffill')"
   ]
  },
  {
   "cell_type": "code",
   "execution_count": 55,
   "metadata": {},
   "outputs": [
    {
     "data": {
      "text/html": [
       "<div>\n",
       "<style scoped>\n",
       "    .dataframe tbody tr th:only-of-type {\n",
       "        vertical-align: middle;\n",
       "    }\n",
       "\n",
       "    .dataframe tbody tr th {\n",
       "        vertical-align: top;\n",
       "    }\n",
       "\n",
       "    .dataframe thead th {\n",
       "        text-align: right;\n",
       "    }\n",
       "</style>\n",
       "<table border=\"1\" class=\"dataframe\">\n",
       "  <thead>\n",
       "    <tr style=\"text-align: right;\">\n",
       "      <th></th>\n",
       "      <th>time</th>\n",
       "      <th>pid</th>\n",
       "      <th>x</th>\n",
       "      <th>y</th>\n",
       "      <th>z</th>\n",
       "      <th>TAC_class</th>\n",
       "    </tr>\n",
       "  </thead>\n",
       "  <tbody>\n",
       "    <tr>\n",
       "      <th>0</th>\n",
       "      <td>2017-05-02 14:04:42.409</td>\n",
       "      <td>SA0297</td>\n",
       "      <td>0.075800</td>\n",
       "      <td>0.027300</td>\n",
       "      <td>-0.010200</td>\n",
       "      <td>0.0</td>\n",
       "    </tr>\n",
       "    <tr>\n",
       "      <th>1</th>\n",
       "      <td>2017-05-02 14:04:42.455</td>\n",
       "      <td>SA0297</td>\n",
       "      <td>-0.035900</td>\n",
       "      <td>0.079400</td>\n",
       "      <td>0.003700</td>\n",
       "      <td>0.0</td>\n",
       "    </tr>\n",
       "    <tr>\n",
       "      <th>2</th>\n",
       "      <td>2017-05-02 14:04:42.500</td>\n",
       "      <td>SA0297</td>\n",
       "      <td>-0.242700</td>\n",
       "      <td>-0.086100</td>\n",
       "      <td>-0.016300</td>\n",
       "      <td>0.0</td>\n",
       "    </tr>\n",
       "    <tr>\n",
       "      <th>3</th>\n",
       "      <td>2017-05-02 14:04:43.945</td>\n",
       "      <td>SA0297</td>\n",
       "      <td>-0.288800</td>\n",
       "      <td>0.051400</td>\n",
       "      <td>-0.014500</td>\n",
       "      <td>0.0</td>\n",
       "    </tr>\n",
       "    <tr>\n",
       "      <th>4</th>\n",
       "      <td>2017-05-02 14:04:43.953</td>\n",
       "      <td>SA0297</td>\n",
       "      <td>-0.041300</td>\n",
       "      <td>-0.018400</td>\n",
       "      <td>-0.010500</td>\n",
       "      <td>0.0</td>\n",
       "    </tr>\n",
       "    <tr>\n",
       "      <th>...</th>\n",
       "      <td>...</td>\n",
       "      <td>...</td>\n",
       "      <td>...</td>\n",
       "      <td>...</td>\n",
       "      <td>...</td>\n",
       "      <td>...</td>\n",
       "    </tr>\n",
       "    <tr>\n",
       "      <th>14057560</th>\n",
       "      <td>2017-05-03 16:34:08.196</td>\n",
       "      <td>CC6740</td>\n",
       "      <td>-0.133956</td>\n",
       "      <td>0.124726</td>\n",
       "      <td>-0.010736</td>\n",
       "      <td>0.0</td>\n",
       "    </tr>\n",
       "    <tr>\n",
       "      <th>14057561</th>\n",
       "      <td>2017-05-03 16:34:08.220</td>\n",
       "      <td>CC6740</td>\n",
       "      <td>-0.100764</td>\n",
       "      <td>0.180872</td>\n",
       "      <td>0.046449</td>\n",
       "      <td>0.0</td>\n",
       "    </tr>\n",
       "    <tr>\n",
       "      <th>14057562</th>\n",
       "      <td>2017-05-03 16:34:08.245</td>\n",
       "      <td>CC6740</td>\n",
       "      <td>-0.131853</td>\n",
       "      <td>0.195934</td>\n",
       "      <td>0.181088</td>\n",
       "      <td>0.0</td>\n",
       "    </tr>\n",
       "    <tr>\n",
       "      <th>14057563</th>\n",
       "      <td>2017-05-03 16:34:08.270</td>\n",
       "      <td>CC6740</td>\n",
       "      <td>-0.149704</td>\n",
       "      <td>0.194482</td>\n",
       "      <td>0.202393</td>\n",
       "      <td>0.0</td>\n",
       "    </tr>\n",
       "    <tr>\n",
       "      <th>14057564</th>\n",
       "      <td>2017-05-03 16:34:08.294</td>\n",
       "      <td>CC6740</td>\n",
       "      <td>-0.107288</td>\n",
       "      <td>0.153548</td>\n",
       "      <td>0.168595</td>\n",
       "      <td>0.0</td>\n",
       "    </tr>\n",
       "  </tbody>\n",
       "</table>\n",
       "<p>14057565 rows × 6 columns</p>\n",
       "</div>"
      ],
      "text/plain": [
       "                            time     pid         x         y         z  \\\n",
       "0        2017-05-02 14:04:42.409  SA0297  0.075800  0.027300 -0.010200   \n",
       "1        2017-05-02 14:04:42.455  SA0297 -0.035900  0.079400  0.003700   \n",
       "2        2017-05-02 14:04:42.500  SA0297 -0.242700 -0.086100 -0.016300   \n",
       "3        2017-05-02 14:04:43.945  SA0297 -0.288800  0.051400 -0.014500   \n",
       "4        2017-05-02 14:04:43.953  SA0297 -0.041300 -0.018400 -0.010500   \n",
       "...                          ...     ...       ...       ...       ...   \n",
       "14057560 2017-05-03 16:34:08.196  CC6740 -0.133956  0.124726 -0.010736   \n",
       "14057561 2017-05-03 16:34:08.220  CC6740 -0.100764  0.180872  0.046449   \n",
       "14057562 2017-05-03 16:34:08.245  CC6740 -0.131853  0.195934  0.181088   \n",
       "14057563 2017-05-03 16:34:08.270  CC6740 -0.149704  0.194482  0.202393   \n",
       "14057564 2017-05-03 16:34:08.294  CC6740 -0.107288  0.153548  0.168595   \n",
       "\n",
       "          TAC_class  \n",
       "0               0.0  \n",
       "1               0.0  \n",
       "2               0.0  \n",
       "3               0.0  \n",
       "4               0.0  \n",
       "...             ...  \n",
       "14057560        0.0  \n",
       "14057561        0.0  \n",
       "14057562        0.0  \n",
       "14057563        0.0  \n",
       "14057564        0.0  \n",
       "\n",
       "[14057565 rows x 6 columns]"
      ]
     },
     "execution_count": 55,
     "metadata": {},
     "output_type": "execute_result"
    }
   ],
   "source": [
    "merged_df"
   ]
  },
  {
   "cell_type": "code",
   "execution_count": 60,
   "metadata": {},
   "outputs": [
    {
     "data": {
      "text/plain": [
       "82.53"
      ]
     },
     "execution_count": 60,
     "metadata": {},
     "output_type": "execute_result"
    }
   ],
   "source": [
    "# Percentage of the data representing sober readings\n",
    "round((merged_df['TAC_class'] == 0).sum() / len(merged_df) * 100, 2)"
   ]
  },
  {
   "cell_type": "code",
   "execution_count": 14,
   "metadata": {},
   "outputs": [
    {
     "data": {
      "text/html": [
       "<div>\n",
       "<style scoped>\n",
       "    .dataframe tbody tr th:only-of-type {\n",
       "        vertical-align: middle;\n",
       "    }\n",
       "\n",
       "    .dataframe tbody tr th {\n",
       "        vertical-align: top;\n",
       "    }\n",
       "\n",
       "    .dataframe thead th {\n",
       "        text-align: right;\n",
       "    }\n",
       "</style>\n",
       "<table border=\"1\" class=\"dataframe\">\n",
       "  <thead>\n",
       "    <tr style=\"text-align: right;\">\n",
       "      <th></th>\n",
       "      <th>time</th>\n",
       "      <th>pid</th>\n",
       "      <th>x</th>\n",
       "      <th>y</th>\n",
       "      <th>z</th>\n",
       "      <th>magnitude</th>\n",
       "      <th>XYZ_sum</th>\n",
       "      <th>TAC_class</th>\n",
       "    </tr>\n",
       "  </thead>\n",
       "  <tbody>\n",
       "    <tr>\n",
       "      <th>0</th>\n",
       "      <td>2017-05-02 14:04:42.409</td>\n",
       "      <td>SA0297</td>\n",
       "      <td>0.075800</td>\n",
       "      <td>0.027300</td>\n",
       "      <td>-0.010200</td>\n",
       "      <td>0.081209</td>\n",
       "      <td>0.092900</td>\n",
       "      <td>0.0</td>\n",
       "    </tr>\n",
       "    <tr>\n",
       "      <th>1</th>\n",
       "      <td>2017-05-02 14:04:42.455</td>\n",
       "      <td>SA0297</td>\n",
       "      <td>-0.035900</td>\n",
       "      <td>0.079400</td>\n",
       "      <td>0.003700</td>\n",
       "      <td>0.087217</td>\n",
       "      <td>0.047200</td>\n",
       "      <td>0.0</td>\n",
       "    </tr>\n",
       "    <tr>\n",
       "      <th>2</th>\n",
       "      <td>2017-05-02 14:04:42.500</td>\n",
       "      <td>SA0297</td>\n",
       "      <td>-0.242700</td>\n",
       "      <td>-0.086100</td>\n",
       "      <td>-0.016300</td>\n",
       "      <td>0.258035</td>\n",
       "      <td>-0.345100</td>\n",
       "      <td>0.0</td>\n",
       "    </tr>\n",
       "    <tr>\n",
       "      <th>3</th>\n",
       "      <td>2017-05-02 14:04:43.945</td>\n",
       "      <td>SA0297</td>\n",
       "      <td>-0.288800</td>\n",
       "      <td>0.051400</td>\n",
       "      <td>-0.014500</td>\n",
       "      <td>0.293697</td>\n",
       "      <td>-0.251900</td>\n",
       "      <td>0.0</td>\n",
       "    </tr>\n",
       "    <tr>\n",
       "      <th>4</th>\n",
       "      <td>2017-05-02 14:04:43.953</td>\n",
       "      <td>SA0297</td>\n",
       "      <td>-0.041300</td>\n",
       "      <td>-0.018400</td>\n",
       "      <td>-0.010500</td>\n",
       "      <td>0.046417</td>\n",
       "      <td>-0.070200</td>\n",
       "      <td>0.0</td>\n",
       "    </tr>\n",
       "    <tr>\n",
       "      <th>...</th>\n",
       "      <td>...</td>\n",
       "      <td>...</td>\n",
       "      <td>...</td>\n",
       "      <td>...</td>\n",
       "      <td>...</td>\n",
       "      <td>...</td>\n",
       "      <td>...</td>\n",
       "      <td>...</td>\n",
       "    </tr>\n",
       "    <tr>\n",
       "      <th>14057560</th>\n",
       "      <td>2017-05-03 16:34:08.196</td>\n",
       "      <td>CC6740</td>\n",
       "      <td>-0.133956</td>\n",
       "      <td>0.124726</td>\n",
       "      <td>-0.010736</td>\n",
       "      <td>0.183347</td>\n",
       "      <td>-0.019966</td>\n",
       "      <td>0.0</td>\n",
       "    </tr>\n",
       "    <tr>\n",
       "      <th>14057561</th>\n",
       "      <td>2017-05-03 16:34:08.220</td>\n",
       "      <td>CC6740</td>\n",
       "      <td>-0.100764</td>\n",
       "      <td>0.180872</td>\n",
       "      <td>0.046449</td>\n",
       "      <td>0.212192</td>\n",
       "      <td>0.126556</td>\n",
       "      <td>0.0</td>\n",
       "    </tr>\n",
       "    <tr>\n",
       "      <th>14057562</th>\n",
       "      <td>2017-05-03 16:34:08.245</td>\n",
       "      <td>CC6740</td>\n",
       "      <td>-0.131853</td>\n",
       "      <td>0.195934</td>\n",
       "      <td>0.181088</td>\n",
       "      <td>0.297604</td>\n",
       "      <td>0.245169</td>\n",
       "      <td>0.0</td>\n",
       "    </tr>\n",
       "    <tr>\n",
       "      <th>14057563</th>\n",
       "      <td>2017-05-03 16:34:08.270</td>\n",
       "      <td>CC6740</td>\n",
       "      <td>-0.149704</td>\n",
       "      <td>0.194482</td>\n",
       "      <td>0.202393</td>\n",
       "      <td>0.318115</td>\n",
       "      <td>0.247170</td>\n",
       "      <td>0.0</td>\n",
       "    </tr>\n",
       "    <tr>\n",
       "      <th>14057564</th>\n",
       "      <td>2017-05-03 16:34:08.294</td>\n",
       "      <td>CC6740</td>\n",
       "      <td>-0.107288</td>\n",
       "      <td>0.153548</td>\n",
       "      <td>0.168595</td>\n",
       "      <td>0.252015</td>\n",
       "      <td>0.214855</td>\n",
       "      <td>0.0</td>\n",
       "    </tr>\n",
       "  </tbody>\n",
       "</table>\n",
       "<p>14057565 rows × 8 columns</p>\n",
       "</div>"
      ],
      "text/plain": [
       "                            time     pid         x         y         z  \\\n",
       "0        2017-05-02 14:04:42.409  SA0297  0.075800  0.027300 -0.010200   \n",
       "1        2017-05-02 14:04:42.455  SA0297 -0.035900  0.079400  0.003700   \n",
       "2        2017-05-02 14:04:42.500  SA0297 -0.242700 -0.086100 -0.016300   \n",
       "3        2017-05-02 14:04:43.945  SA0297 -0.288800  0.051400 -0.014500   \n",
       "4        2017-05-02 14:04:43.953  SA0297 -0.041300 -0.018400 -0.010500   \n",
       "...                          ...     ...       ...       ...       ...   \n",
       "14057560 2017-05-03 16:34:08.196  CC6740 -0.133956  0.124726 -0.010736   \n",
       "14057561 2017-05-03 16:34:08.220  CC6740 -0.100764  0.180872  0.046449   \n",
       "14057562 2017-05-03 16:34:08.245  CC6740 -0.131853  0.195934  0.181088   \n",
       "14057563 2017-05-03 16:34:08.270  CC6740 -0.149704  0.194482  0.202393   \n",
       "14057564 2017-05-03 16:34:08.294  CC6740 -0.107288  0.153548  0.168595   \n",
       "\n",
       "          magnitude   XYZ_sum  TAC_class  \n",
       "0          0.081209  0.092900        0.0  \n",
       "1          0.087217  0.047200        0.0  \n",
       "2          0.258035 -0.345100        0.0  \n",
       "3          0.293697 -0.251900        0.0  \n",
       "4          0.046417 -0.070200        0.0  \n",
       "...             ...       ...        ...  \n",
       "14057560   0.183347 -0.019966        0.0  \n",
       "14057561   0.212192  0.126556        0.0  \n",
       "14057562   0.297604  0.245169        0.0  \n",
       "14057563   0.318115  0.247170        0.0  \n",
       "14057564   0.252015  0.214855        0.0  \n",
       "\n",
       "[14057565 rows x 8 columns]"
      ]
     },
     "execution_count": 14,
     "metadata": {},
     "output_type": "execute_result"
    }
   ],
   "source": [
    "merged_df = pd.read_parquet(\"merged_data.parquet\")\n",
    "\n",
    "merged_df"
   ]
  },
  {
   "cell_type": "markdown",
   "metadata": {},
   "source": [
    "## Attempting to Balance Data"
   ]
  },
  {
   "cell_type": "code",
   "execution_count": 16,
   "metadata": {},
   "outputs": [],
   "source": [
    "def plot_feature_vs_feature(df, feature_x, feature_y, size=10000):\n",
    "    # Set seaborn style\n",
    "    sns.set_style(\"whitegrid\")\n",
    "\n",
    "    df_subset = df.sample(size)\n",
    "    plt.figure(figsize=(8, 6))\n",
    "    sns.scatterplot(x=feature_x, y=feature_y, hue='TAC_class', data=df_subset, palette='viridis', s=10)\n",
    "    plt.title(f'{feature_x} vs. {feature_y} Visualization')\n",
    "    plt.xlabel(feature_x)\n",
    "    plt.ylabel(feature_y)\n",
    "    plt.legend(title='TAC Class', loc='upper right')\n",
    "    plt.show()"
   ]
  },
  {
   "cell_type": "code",
   "execution_count": 17,
   "metadata": {},
   "outputs": [],
   "source": [
    "def percent_drunk(df):\n",
    "    return round(np.sum(df['TAC_class']) / len(df), 3)"
   ]
  },
  {
   "cell_type": "code",
   "execution_count": 21,
   "metadata": {},
   "outputs": [],
   "source": [
    "# examining data balance based on magnitude of movement\n",
    "cutoff = datetime(2017, 5, 3, 3, 0)"
   ]
  },
  {
   "cell_type": "code",
   "execution_count": 37,
   "metadata": {},
   "outputs": [
    {
     "name": "stdout",
     "output_type": "stream",
     "text": [
      "SA0297\n",
      "11.1% drunk total\n",
      "0.2% drunk after 3am\n",
      "35.4% drunk before 3am\n",
      "-------------------\n",
      "PC6771\n",
      "8.1% drunk total\n",
      "1.4000000000000001% drunk after 3am\n",
      "27.700000000000003% drunk before 3am\n",
      "-------------------\n"
     ]
    },
    {
     "name": "stderr",
     "output_type": "stream",
     "text": [
      "/var/folders/kk/v1dq6w817kb25skcwjv3tgyw0000gn/T/ipykernel_18766/3547373032.py:2: RuntimeWarning: invalid value encountered in double_scalars\n",
      "  return round(np.sum(df['TAC_class']) / len(df), 3)\n"
     ]
    },
    {
     "name": "stdout",
     "output_type": "stream",
     "text": [
      "BK7610\n",
      "26.8% drunk total\n",
      "nan% drunk after 3am\n",
      "26.8% drunk before 3am\n",
      "-------------------\n",
      "DC6359\n",
      "44.2% drunk total\n",
      "nan% drunk after 3am\n",
      "44.2% drunk before 3am\n",
      "-------------------\n",
      "MC7070\n",
      "53.900000000000006% drunk total\n",
      "24.0% drunk after 3am\n",
      "58.9% drunk before 3am\n",
      "-------------------\n",
      "MJ8002\n",
      "34.0% drunk total\n",
      "16.8% drunk after 3am\n",
      "39.0% drunk before 3am\n",
      "-------------------\n",
      "BU4707\n",
      "22.5% drunk total\n",
      "nan% drunk after 3am\n",
      "22.5% drunk before 3am\n",
      "-------------------\n",
      "JR8022\n",
      "43.2% drunk total\n",
      "nan% drunk after 3am\n",
      "43.2% drunk before 3am\n",
      "-------------------\n",
      "HV0618\n",
      "3.1% drunk total\n",
      "0.0% drunk after 3am\n",
      "15.4% drunk before 3am\n",
      "-------------------\n",
      "SF3079\n",
      "44.9% drunk total\n",
      "36.4% drunk after 3am\n",
      "46.0% drunk before 3am\n",
      "-------------------\n",
      "JB3156\n",
      "28.499999999999996% drunk total\n",
      "18.9% drunk after 3am\n",
      "29.299999999999997% drunk before 3am\n",
      "-------------------\n",
      "CC6740\n",
      "8.7% drunk total\n",
      "1.0999999999999999% drunk after 3am\n",
      "24.7% drunk before 3am\n",
      "-------------------\n",
      "DK3500\n",
      "5.0% drunk total\n",
      "2.3% drunk after 3am\n",
      "24.5% drunk before 3am\n",
      "-------------------\n"
     ]
    }
   ],
   "source": [
    "for pid in pids:\n",
    "    pid_df = merged_df.loc[merged_df['pid'] == pid]\n",
    "    drunk_prop = percent_drunk(pid_df)\n",
    "    after_3am_drunk_prop = percent_drunk(pid_df.loc[pid_df['time'] > cutoff])\n",
    "    before_3am_drunk_prop = percent_drunk(pid_df.loc[pid_df['time'] <= cutoff])\n",
    "    print(pid)\n",
    "    print(f\"{drunk_prop * 100}% drunk total\")\n",
    "    print(f\"{after_3am_drunk_prop * 100}% drunk after 3am\")\n",
    "    print(f\"{before_3am_drunk_prop * 100}% drunk before 3am\")\n",
    "    print(\"-------------------\")\n"
   ]
  },
  {
   "cell_type": "code",
   "execution_count": 42,
   "metadata": {},
   "outputs": [],
   "source": [
    "for pid in pids:\n",
    "    pid_df = merged_df.loc[merged_df['pid'] == pid]\n",
    "    drunk_prop = percent_drunk(pid_df.loc[pid_df['magnitude'] < .05])"
   ]
  },
  {
   "cell_type": "code",
   "execution_count": 41,
   "metadata": {},
   "outputs": [
    {
     "data": {
      "text/plain": [
       "0.175"
      ]
     },
     "execution_count": 41,
     "metadata": {},
     "output_type": "execute_result"
    }
   ],
   "source": [
    "percent_drunk(merged_df)"
   ]
  },
  {
   "cell_type": "code",
   "execution_count": 53,
   "metadata": {},
   "outputs": [
    {
     "data": {
      "text/plain": [
       "0.322"
      ]
     },
     "execution_count": 53,
     "metadata": {},
     "output_type": "execute_result"
    }
   ],
   "source": [
    "before_3am = merged_df.loc[merged_df['time'] < cutoff]\n",
    "\n",
    "percent_drunk(before_3am)"
   ]
  },
  {
   "cell_type": "code",
   "execution_count": 54,
   "metadata": {},
   "outputs": [
    {
     "data": {
      "text/plain": [
       "0.021"
      ]
     },
     "execution_count": 54,
     "metadata": {},
     "output_type": "execute_result"
    }
   ],
   "source": [
    "after_3am = merged_df.loc[merged_df['time'] >= cutoff]\n",
    "\n",
    "percent_drunk(after_3am)"
   ]
  },
  {
   "cell_type": "code",
   "execution_count": 55,
   "metadata": {},
   "outputs": [
    {
     "data": {
      "text/plain": [
       "0.132"
      ]
     },
     "execution_count": 55,
     "metadata": {},
     "output_type": "execute_result"
    }
   ],
   "source": [
    "percent_drunk(merged_df.query(\"`magnitude` < 0.02\"))"
   ]
  },
  {
   "cell_type": "code",
   "execution_count": 65,
   "metadata": {},
   "outputs": [
    {
     "data": {
      "text/plain": [
       "0.314"
      ]
     },
     "execution_count": 65,
     "metadata": {},
     "output_type": "execute_result"
    }
   ],
   "source": [
    "percent_drunk(before_3am.query(\"`magnitude` < 0.01\"))"
   ]
  },
  {
   "cell_type": "code",
   "execution_count": 55,
   "metadata": {},
   "outputs": [
    {
     "data": {
      "image/png": "[encoded data removed]",
      "text/plain": [
       "<Figure size 800x600 with 1 Axes>"
      ]
     },
     "metadata": {},
     "output_type": "display_data"
    }
   ],
   "source": [
    "plot_feature_vs_feature(merged_df.loc[merged_df['pid'] == 'HV0618'], 'time', 'magnitude')"
   ]
  },
  {
   "cell_type": "code",
   "execution_count": 39,
   "metadata": {},
   "outputs": [],
   "source": [
    "# Final Data Balancing Procedure\n",
    "# Remove data with magnitude of accelerometer data < 0.03 (provides features with low predictive power)\n",
    "# and data after 03:00 May 3rd, 2017 (night after bar crawl when the data is overwhelmingly classified as sober)\n",
    "\n",
    "balanced_df = before_3am.query(\"`magnitude` > 0.03\")"
   ]
  },
  {
   "cell_type": "code",
   "execution_count": 40,
   "metadata": {},
   "outputs": [
    {
     "data": {
      "text/plain": [
       "4378300"
      ]
     },
     "execution_count": 40,
     "metadata": {},
     "output_type": "execute_result"
    }
   ],
   "source": [
    "len(balanced_df)"
   ]
  },
  {
   "cell_type": "code",
   "execution_count": 41,
   "metadata": {},
   "outputs": [
    {
     "data": {
      "text/plain": [
       "0.313"
      ]
     },
     "execution_count": 41,
     "metadata": {},
     "output_type": "execute_result"
    }
   ],
   "source": [
    "percent_drunk(balanced_df)"
   ]
  },
  {
   "cell_type": "code",
   "execution_count": 42,
   "metadata": {},
   "outputs": [
    {
     "data": {
      "image/png": "[encoded data removed]",
      "text/plain": [
       "<Figure size 800x600 with 1 Axes>"
      ]
     },
     "metadata": {},
     "output_type": "display_data"
    }
   ],
   "source": [
    "plot_feature_vs_feature(balanced_df.loc[balanced_df['pid'] == 'DK3500'], 'time', 'magnitude')"
   ]
  },
  {
   "cell_type": "code",
   "execution_count": 45,
   "metadata": {},
   "outputs": [],
   "source": [
    "# balanced_df.to_parquet(\"balanced_data.parquet\")"
   ]
  },
  {
   "cell_type": "code",
   "execution_count": 46,
   "metadata": {},
   "outputs": [
    {
     "data": {
      "text/html": [
       "<div>\n",
       "<style scoped>\n",
       "    .dataframe tbody tr th:only-of-type {\n",
       "        vertical-align: middle;\n",
       "    }\n",
       "\n",
       "    .dataframe tbody tr th {\n",
       "        vertical-align: top;\n",
       "    }\n",
       "\n",
       "    .dataframe thead th {\n",
       "        text-align: right;\n",
       "    }\n",
       "</style>\n",
       "<table border=\"1\" class=\"dataframe\">\n",
       "  <thead>\n",
       "    <tr style=\"text-align: right;\">\n",
       "      <th></th>\n",
       "      <th>time</th>\n",
       "      <th>pid</th>\n",
       "      <th>x</th>\n",
       "      <th>y</th>\n",
       "      <th>z</th>\n",
       "      <th>magnitude</th>\n",
       "      <th>XYZ_sum</th>\n",
       "      <th>TAC_class</th>\n",
       "    </tr>\n",
       "  </thead>\n",
       "  <tbody>\n",
       "    <tr>\n",
       "      <th>0</th>\n",
       "      <td>2017-05-02 14:04:42.409</td>\n",
       "      <td>SA0297</td>\n",
       "      <td>0.075800</td>\n",
       "      <td>2.730000e-02</td>\n",
       "      <td>-1.020000e-02</td>\n",
       "      <td>8.120942e-02</td>\n",
       "      <td>0.092900</td>\n",
       "      <td>0.0</td>\n",
       "    </tr>\n",
       "    <tr>\n",
       "      <th>1</th>\n",
       "      <td>2017-05-02 14:04:42.455</td>\n",
       "      <td>SA0297</td>\n",
       "      <td>-0.035900</td>\n",
       "      <td>7.940000e-02</td>\n",
       "      <td>3.700000e-03</td>\n",
       "      <td>8.721731e-02</td>\n",
       "      <td>0.047200</td>\n",
       "      <td>0.0</td>\n",
       "    </tr>\n",
       "    <tr>\n",
       "      <th>2</th>\n",
       "      <td>2017-05-02 14:04:42.500</td>\n",
       "      <td>SA0297</td>\n",
       "      <td>-0.242700</td>\n",
       "      <td>-8.610000e-02</td>\n",
       "      <td>-1.630000e-02</td>\n",
       "      <td>2.580352e-01</td>\n",
       "      <td>-0.345100</td>\n",
       "      <td>0.0</td>\n",
       "    </tr>\n",
       "    <tr>\n",
       "      <th>3</th>\n",
       "      <td>2017-05-02 14:04:43.945</td>\n",
       "      <td>SA0297</td>\n",
       "      <td>-0.288800</td>\n",
       "      <td>5.140000e-02</td>\n",
       "      <td>-1.450000e-02</td>\n",
       "      <td>2.936965e-01</td>\n",
       "      <td>-0.251900</td>\n",
       "      <td>0.0</td>\n",
       "    </tr>\n",
       "    <tr>\n",
       "      <th>4</th>\n",
       "      <td>2017-05-02 14:04:43.953</td>\n",
       "      <td>SA0297</td>\n",
       "      <td>-0.041300</td>\n",
       "      <td>-1.840000e-02</td>\n",
       "      <td>-1.050000e-02</td>\n",
       "      <td>4.641659e-02</td>\n",
       "      <td>-0.070200</td>\n",
       "      <td>0.0</td>\n",
       "    </tr>\n",
       "    <tr>\n",
       "      <th>...</th>\n",
       "      <td>...</td>\n",
       "      <td>...</td>\n",
       "      <td>...</td>\n",
       "      <td>...</td>\n",
       "      <td>...</td>\n",
       "      <td>...</td>\n",
       "      <td>...</td>\n",
       "      <td>...</td>\n",
       "    </tr>\n",
       "    <tr>\n",
       "      <th>7175039</th>\n",
       "      <td>2017-05-03 02:59:59.953</td>\n",
       "      <td>SA0297</td>\n",
       "      <td>0.154100</td>\n",
       "      <td>-6.970000e-02</td>\n",
       "      <td>1.772000e-01</td>\n",
       "      <td>2.449586e-01</td>\n",
       "      <td>0.261600</td>\n",
       "      <td>1.0</td>\n",
       "    </tr>\n",
       "    <tr>\n",
       "      <th>7175041</th>\n",
       "      <td>2017-05-03 02:59:59.959</td>\n",
       "      <td>JB3156</td>\n",
       "      <td>7.825448</td>\n",
       "      <td>-1.809008e+08</td>\n",
       "      <td>1.809008e+08</td>\n",
       "      <td>2.558323e+08</td>\n",
       "      <td>7.825448</td>\n",
       "      <td>1.0</td>\n",
       "    </tr>\n",
       "    <tr>\n",
       "      <th>7175043</th>\n",
       "      <td>2017-05-03 02:59:59.979</td>\n",
       "      <td>JB3156</td>\n",
       "      <td>9.334992</td>\n",
       "      <td>-1.809008e+08</td>\n",
       "      <td>1.809008e+08</td>\n",
       "      <td>2.558323e+08</td>\n",
       "      <td>9.334992</td>\n",
       "      <td>1.0</td>\n",
       "    </tr>\n",
       "    <tr>\n",
       "      <th>7175046</th>\n",
       "      <td>2017-05-03 02:59:59.998</td>\n",
       "      <td>JB3156</td>\n",
       "      <td>7.540538</td>\n",
       "      <td>-1.809008e+08</td>\n",
       "      <td>1.809008e+08</td>\n",
       "      <td>2.558323e+08</td>\n",
       "      <td>7.540538</td>\n",
       "      <td>1.0</td>\n",
       "    </tr>\n",
       "    <tr>\n",
       "      <th>7175047</th>\n",
       "      <td>2017-05-03 02:59:59.999</td>\n",
       "      <td>SA0297</td>\n",
       "      <td>-0.215400</td>\n",
       "      <td>-7.080000e-02</td>\n",
       "      <td>7.900000e-03</td>\n",
       "      <td>2.268749e-01</td>\n",
       "      <td>-0.278300</td>\n",
       "      <td>1.0</td>\n",
       "    </tr>\n",
       "  </tbody>\n",
       "</table>\n",
       "<p>4378300 rows × 8 columns</p>\n",
       "</div>"
      ],
      "text/plain": [
       "                           time     pid         x             y             z  \\\n",
       "0       2017-05-02 14:04:42.409  SA0297  0.075800  2.730000e-02 -1.020000e-02   \n",
       "1       2017-05-02 14:04:42.455  SA0297 -0.035900  7.940000e-02  3.700000e-03   \n",
       "2       2017-05-02 14:04:42.500  SA0297 -0.242700 -8.610000e-02 -1.630000e-02   \n",
       "3       2017-05-02 14:04:43.945  SA0297 -0.288800  5.140000e-02 -1.450000e-02   \n",
       "4       2017-05-02 14:04:43.953  SA0297 -0.041300 -1.840000e-02 -1.050000e-02   \n",
       "...                         ...     ...       ...           ...           ...   \n",
       "7175039 2017-05-03 02:59:59.953  SA0297  0.154100 -6.970000e-02  1.772000e-01   \n",
       "7175041 2017-05-03 02:59:59.959  JB3156  7.825448 -1.809008e+08  1.809008e+08   \n",
       "7175043 2017-05-03 02:59:59.979  JB3156  9.334992 -1.809008e+08  1.809008e+08   \n",
       "7175046 2017-05-03 02:59:59.998  JB3156  7.540538 -1.809008e+08  1.809008e+08   \n",
       "7175047 2017-05-03 02:59:59.999  SA0297 -0.215400 -7.080000e-02  7.900000e-03   \n",
       "\n",
       "            magnitude   XYZ_sum  TAC_class  \n",
       "0        8.120942e-02  0.092900        0.0  \n",
       "1        8.721731e-02  0.047200        0.0  \n",
       "2        2.580352e-01 -0.345100        0.0  \n",
       "3        2.936965e-01 -0.251900        0.0  \n",
       "4        4.641659e-02 -0.070200        0.0  \n",
       "...               ...       ...        ...  \n",
       "7175039  2.449586e-01  0.261600        1.0  \n",
       "7175041  2.558323e+08  7.825448        1.0  \n",
       "7175043  2.558323e+08  9.334992        1.0  \n",
       "7175046  2.558323e+08  7.540538        1.0  \n",
       "7175047  2.268749e-01 -0.278300        1.0  \n",
       "\n",
       "[4378300 rows x 8 columns]"
      ]
     },
     "execution_count": 46,
     "metadata": {},
     "output_type": "execute_result"
    }
   ],
   "source": [
    "balanced_df = pd.read_parquet(\"balanced_data.parquet\")\n",
    "\n",
    "balanced_df"
   ]
  },
  {
   "cell_type": "markdown",
   "metadata": {},
   "source": [
    "## Upsampling Accelerometer Data"
   ]
  },
  {
   "cell_type": "code",
   "execution_count": 7,
   "metadata": {},
   "outputs": [],
   "source": [
    "def upsample_data_250hz(df):\n",
    "\n",
    "    upsampled_dfs = {}\n",
    "    pids = list(df['pid'].unique())\n",
    "\n",
    "    for pid in tqdm(pids):\n",
    "        pid_df = df[df['pid'] == pid]\n",
    "\n",
    "        # there are sometimes multiple instances of the same milisecond.\n",
    "        pid_df = pid_df.drop_duplicates(\"time\")\n",
    "        \n",
    "        pid_df.set_index('time', inplace=True)\n",
    "        \n",
    "        upsampled_df = pid_df.resample('4ms').ffill()\n",
    "        upsampled_df['pid'] = pid\n",
    "        upsampled_df.reset_index(inplace=True)\n",
    "        upsampled_df = upsampled_df.dropna()\n",
    "\n",
    "        print(f\"{pid} dataframe length - {len(upsampled_df)}\")\n",
    "        upsampled_dfs[pid] = upsampled_df\n",
    "\n",
    "    return upsampled_dfs\n"
   ]
  },
  {
   "cell_type": "code",
   "execution_count": 47,
   "metadata": {},
   "outputs": [
    {
     "name": "stderr",
     "output_type": "stream",
     "text": [
      "  8%|▊         | 1/13 [00:03<00:42,  3.53s/it]"
     ]
    },
    {
     "name": "stdout",
     "output_type": "stream",
     "text": [
      "SA0297 dataframe length - 11629397\n"
     ]
    },
    {
     "name": "stderr",
     "output_type": "stream",
     "text": [
      " 15%|█▌        | 2/13 [00:05<00:32,  2.94s/it]"
     ]
    },
    {
     "name": "stdout",
     "output_type": "stream",
     "text": [
      "PC6771 dataframe length - 6196126\n"
     ]
    },
    {
     "name": "stderr",
     "output_type": "stream",
     "text": [
      " 23%|██▎       | 3/13 [00:07<00:27,  2.73s/it]"
     ]
    },
    {
     "name": "stdout",
     "output_type": "stream",
     "text": [
      "BK7610 dataframe length - 7974997\n"
     ]
    },
    {
     "name": "stderr",
     "output_type": "stream",
     "text": [
      " 31%|███       | 4/13 [00:09<00:22,  2.53s/it]"
     ]
    },
    {
     "name": "stdout",
     "output_type": "stream",
     "text": [
      "DC6359 dataframe length - 8144007\n"
     ]
    },
    {
     "name": "stderr",
     "output_type": "stream",
     "text": [
      " 38%|███▊      | 5/13 [00:12<00:21,  2.64s/it]"
     ]
    },
    {
     "name": "stdout",
     "output_type": "stream",
     "text": [
      "MC7070 dataframe length - 10902506\n"
     ]
    },
    {
     "name": "stderr",
     "output_type": "stream",
     "text": [
      " 46%|████▌     | 6/13 [00:14<00:17,  2.43s/it]"
     ]
    },
    {
     "name": "stdout",
     "output_type": "stream",
     "text": [
      "MJ8002 dataframe length - 7911200\n"
     ]
    },
    {
     "name": "stderr",
     "output_type": "stream",
     "text": [
      " 54%|█████▍    | 7/13 [00:15<00:12,  2.10s/it]"
     ]
    },
    {
     "name": "stdout",
     "output_type": "stream",
     "text": [
      "BU4707 dataframe length - 5104273\n"
     ]
    },
    {
     "name": "stderr",
     "output_type": "stream",
     "text": [
      " 62%|██████▏   | 8/13 [00:17<00:10,  2.12s/it]"
     ]
    },
    {
     "name": "stdout",
     "output_type": "stream",
     "text": [
      "JR8022 dataframe length - 8520648\n"
     ]
    },
    {
     "name": "stderr",
     "output_type": "stream",
     "text": [
      " 69%|██████▉   | 9/13 [00:19<00:08,  2.13s/it]"
     ]
    },
    {
     "name": "stdout",
     "output_type": "stream",
     "text": [
      "HV0618 dataframe length - 8548259\n"
     ]
    },
    {
     "name": "stderr",
     "output_type": "stream",
     "text": [
      " 77%|███████▋  | 10/13 [00:22<00:06,  2.32s/it]"
     ]
    },
    {
     "name": "stdout",
     "output_type": "stream",
     "text": [
      "SF3079 dataframe length - 10300714\n"
     ]
    },
    {
     "name": "stderr",
     "output_type": "stream",
     "text": [
      " 85%|████████▍ | 11/13 [00:24<00:04,  2.30s/it]"
     ]
    },
    {
     "name": "stdout",
     "output_type": "stream",
     "text": [
      "JB3156 dataframe length - 10166996\n"
     ]
    },
    {
     "name": "stderr",
     "output_type": "stream",
     "text": [
      " 92%|█████████▏| 12/13 [00:27<00:02,  2.45s/it]"
     ]
    },
    {
     "name": "stdout",
     "output_type": "stream",
     "text": [
      "CC6740 dataframe length - 9954844\n"
     ]
    },
    {
     "name": "stderr",
     "output_type": "stream",
     "text": [
      "100%|██████████| 13/13 [00:28<00:00,  2.23s/it]"
     ]
    },
    {
     "name": "stdout",
     "output_type": "stream",
     "text": [
      "DK3500 dataframe length - 5302177\n"
     ]
    },
    {
     "name": "stderr",
     "output_type": "stream",
     "text": [
      "\n"
     ]
    }
   ],
   "source": [
    "# Upsampling balanced data\n",
    "\n",
    "balanced_list_250hz = upsample_data_250hz(balanced_df)"
   ]
  },
  {
   "cell_type": "code",
   "execution_count": 48,
   "metadata": {},
   "outputs": [
    {
     "name": "stdout",
     "output_type": "stream",
     "text": [
      "SA0297: 24.8% drunk total\n",
      "PC6771: 15.0% drunk total\n",
      "BK7610: 27.900000000000002% drunk total\n",
      "DC6359: 39.1% drunk total\n",
      "MC7070: 26.8% drunk total\n",
      "MJ8002: 43.7% drunk total\n",
      "BU4707: 12.2% drunk total\n",
      "JR8022: 9.8% drunk total\n",
      "HV0618: 10.9% drunk total\n",
      "SF3079: 16.7% drunk total\n",
      "JB3156: 32.0% drunk total\n",
      "CC6740: 32.5% drunk total\n",
      "DK3500: 84.0% drunk total\n"
     ]
    }
   ],
   "source": [
    "for pid in pids:\n",
    "    drunk_prop = percent_drunk(balanced_list_250hz[pid])\n",
    "    print(f\"{pid}: {drunk_prop * 100}% drunk total\")"
   ]
  },
  {
   "cell_type": "code",
   "execution_count": 49,
   "metadata": {},
   "outputs": [],
   "source": [
    "for key in balanced_list_250hz.keys():\n",
    "    balanced_list_250hz[key].to_parquet(f\"{key}_balanced_250hz.parquet\")"
   ]
  },
  {
   "cell_type": "code",
   "execution_count": null,
   "metadata": {},
   "outputs": [],
   "source": []
  }
 ],
 "metadata": {
  "kernelspec": {
   "display_name": "Python 3",
   "language": "python",
   "name": "python3"
  },
  "language_info": {
   "codemirror_mode": {
    "name": "ipython",
    "version": 3
   },
   "file_extension": ".py",
   "mimetype": "text/x-python",
   "name": "python",
   "nbconvert_exporter": "python",
   "pygments_lexer": "ipython3",
   "version": "3.8.4"
  }
 },
 "nbformat": 4,
 "nbformat_minor": 2
}
