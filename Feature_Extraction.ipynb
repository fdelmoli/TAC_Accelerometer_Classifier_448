{
 "cells": [
  {
   "cell_type": "markdown",
   "metadata": {},
   "source": [
    "# Generating Features for Heavy Drinking Dataset"
   ]
  },
  {
   "cell_type": "code",
   "execution_count": 1,
   "metadata": {},
   "outputs": [],
   "source": [
    "import numpy as np\n",
    "import pandas as pd\n",
    "import matplotlib.pyplot as plt\n",
    "import seaborn as sns\n",
    "\n",
    "from tqdm import tqdm"
   ]
  },
  {
   "cell_type": "markdown",
   "metadata": {},
   "source": [
    "## Splitting Dataset into Timed Windows"
   ]
  },
  {
   "cell_type": "code",
   "execution_count": 2,
   "metadata": {},
   "outputs": [],
   "source": [
    "def create_data_windows(pid, window):\n",
    "    df = pd.read_parquet(f\"{pid}_balanced_250hz.parquet\")\n",
    "    grouped = df.groupby(pd.Grouper(key='time', freq=window))\n",
    "\n",
    "    return grouped"
   ]
  },
  {
   "cell_type": "code",
   "execution_count": 3,
   "metadata": {},
   "outputs": [],
   "source": [
    "grouped = create_data_windows(\"BU4707\", \"4S\")"
   ]
  },
  {
   "cell_type": "markdown",
   "metadata": {},
   "source": [
    "## Feature Calculation Functions"
   ]
  },
  {
   "cell_type": "code",
   "execution_count": 4,
   "metadata": {},
   "outputs": [],
   "source": [
    "# descriptive statistic features\n",
    "\n",
    "def generate_mean(df_window):\n",
    "    mean_features = []\n",
    "    for field in ['x', 'y', 'z', 'magnitude']:\n",
    "        mean_features.append(np.mean(df_window[field]))\n",
    "\n",
    "    return mean_features\n",
    "\n",
    "\n",
    "def generate_stdev(df_window):\n",
    "    std_features = []\n",
    "    for field in ['x', 'y', 'z', 'magnitude']:\n",
    "        std_features.append(np.std(df_window[field]))\n",
    "\n",
    "    return std_features\n",
    "\n",
    "\n",
    "def generate_median(df_window):\n",
    "    median_features = []\n",
    "    for field in ['x', 'y', 'z', 'magnitude']:\n",
    "        median_features.append(np.median(df_window[field]))\n",
    "\n",
    "    return median_features\n",
    "\n",
    "\n",
    "def generate_zero_crossing_rate(df_window):\n",
    "    zero_crossing_rate_features = []\n",
    "    for field in ['x', 'y', 'z']:\n",
    "        changes = np.sign(df_window[field]).diff()\n",
    "        num_crossings = (changes != 0).sum()\n",
    "        percent_crossings = num_crossings / len(df_window)\n",
    "        zero_crossing_rate_features.append(percent_crossings)\n",
    "\n",
    "    return zero_crossing_rate_features\n",
    "\n",
    "\n",
    "def generate_max(df_window):\n",
    "    max_features = []\n",
    "    for field in ['x', 'y', 'z', 'magnitude']:\n",
    "        max_features.append(np.max(abs(df_window[field])))\n",
    "\n",
    "    return max_features\n",
    "\n",
    "\n",
    "def generate_time_domain_entropy(df_window, num_bins=10):\n",
    "    # Discretize the signal into bins\n",
    "    bins = np.linspace(min(df_window['XYZ_sum']), max(df_window['XYZ_sum']), num_bins+1)\n",
    "    \n",
    "    # Count occurrences of values falling into each bin\n",
    "    counts, _ = np.histogram(df_window['XYZ_sum'], bins=bins)\n",
    "    \n",
    "    # Calculate probability distribution\n",
    "    probabilities = counts / len(df_window['XYZ_sum'])\n",
    "    \n",
    "    # Calculate entropy using Shannon entropy formula\n",
    "    entropy = -np.sum(probabilities * np.log2(probabilities + 1e-10))  # Add small epsilon to avoid log(0)\n",
    "    \n",
    "    return [entropy]"
   ]
  },
  {
   "cell_type": "code",
   "execution_count": 19,
   "metadata": {},
   "outputs": [],
   "source": [
    "# features requiring fast fourier transform\n",
    "\n",
    "def generate_frequency_domain_entropy(df_window, num_bins=10):\n",
    "    # Apply the FFT to the signal\n",
    "    fft_result = np.fft.fft(df_window['XYZ_sum'])\n",
    "    \n",
    "    # Calculate the power spectrum\n",
    "    power_spectrum = np.abs(fft_result) ** 2\n",
    "    \n",
    "    # Discretize the power spectrum into bins\n",
    "    bins = np.linspace(min(power_spectrum), max(power_spectrum), num_bins+1)\n",
    "    \n",
    "    # Count occurrences of values falling into each bin\n",
    "    counts, _ = np.histogram(power_spectrum, bins=bins)\n",
    "    \n",
    "    # Calculate probability distribution\n",
    "    probabilities = counts / len(power_spectrum)\n",
    "    \n",
    "    # Calculate entropy using Shannon entropy formula\n",
    "    entropy = -np.sum(probabilities * np.log2(probabilities + 1e-10))  # Add small epsilon to avoid log(0)\n",
    "    \n",
    "    return [entropy]\n",
    "\n",
    "\n",
    "def generate_spectral_centroid_and_spread(df_window):\n",
    "    # Calculating the weighted mean and variance of frequencies\n",
    "    # The index in the fft_result is the frequency, and the real component of the fft represents the amplitude of the FFT\n",
    "\n",
    "    # Apply the FFT to the signal\n",
    "    fft_result = np.fft.fft(df_window['XYZ_sum'])\n",
    "\n",
    "    frequencies = np.array(range(len(fft_result)))\n",
    "    amplitudes = np.array([fft_result[i].real for i in range(len(fft_result))])\n",
    "\n",
    "    centroid = np.dot(frequencies, amplitudes)\n",
    "\n",
    "    sqd_dev = 0\n",
    "    for i in range(len(frequencies)):\n",
    "        sqd_dev += (i - centroid)**2 * amplitudes[i]\n",
    "    spread = sqd_dev / np.sum(amplitudes)\n",
    "\n",
    "    return [centroid, spread]\n",
    "\n",
    "\n",
    "def generate_spectral_flux_and_rolloff(df_window):\n",
    "    # Returns the flux, which is a measure of the speed of change between two consecutive FFTs\n",
    "    # and the roll-off, which is the frequency below which 90% of the energy is contained\n",
    "\n",
    "    fft_result = np.fft.fft(df_window['XYZ_sum'])\n",
    "    magnitude_spectrum = np.abs(fft_result)\n",
    "\n",
    "    # Calculating Flux\n",
    "    squared_diff = np.diff(magnitude_spectrum, axis=0) ** 2\n",
    "    spectral_flux = np.sum(squared_diff)\n",
    "\n",
    "    # Calculating Rolloff\n",
    "    cum_sum = np.cumsum(magnitude_spectrum)\n",
    "    # Normalize cumulative sum by total sum\n",
    "    cum_sum /= np.sum(magnitude_spectrum)\n",
    "    roll_off = np.argmax(cum_sum >= 0.9)\n",
    "\n",
    "    return [spectral_flux, roll_off]\n",
    "\n"
   ]
  },
  {
   "cell_type": "markdown",
   "metadata": {},
   "source": [
    "## Calculating Features"
   ]
  },
  {
   "cell_type": "code",
   "execution_count": 20,
   "metadata": {},
   "outputs": [],
   "source": [
    "def generate_features(grouped):\n",
    "    feature_df_rows = []\n",
    "    col_names = ['time', 'pid', 'x_mean', 'y_mean', 'z_mean', 'mag_mean', 'x_std', 'y_std', 'z_std', 'mag_std', \n",
    "                'x_median', 'y_median', 'z_median', 'mag_median', 'x_crossing', 'y_crossing', 'z_crossing', \n",
    "                'x_max', 'y_max', 'z_max', 'mag_max', 'time_entropy', 'frequency_entropy', 'spectral_centroid',\n",
    "                'spectral_spread', 'spectral_flux', 'spectral_rolloff', 'TAC_class']\n",
    "\n",
    "    # the group name is the start of the window\n",
    "    for group_name, group_data in tqdm(grouped):\n",
    "        # the last TAC class value in the window will be the label of the feature\n",
    "        TAC_class_label = group_data['TAC_class'].iloc[-1]\n",
    "        \n",
    "        # converting a list of data to a dataframe\n",
    "        feature_funcs = [generate_mean, generate_stdev, generate_median, generate_zero_crossing_rate, generate_max, generate_time_domain_entropy,\n",
    "                        generate_frequency_domain_entropy, generate_spectral_centroid_and_spread, generate_spectral_flux_and_rolloff]\n",
    "        data = [group_name, group_data['pid'].iloc[0]]\n",
    "        for func in feature_funcs:\n",
    "            data += func(group_data)\n",
    "        data += [TAC_class_label]\n",
    "        \n",
    "        feature_row = pd.DataFrame([data], columns=col_names)\n",
    "        feature_df_rows.append(feature_row)\n",
    "\n",
    "    feature_df = pd.concat(feature_df_rows)\n",
    "\n",
    "    return feature_df"
   ]
  },
  {
   "cell_type": "code",
   "execution_count": 24,
   "metadata": {},
   "outputs": [],
   "source": [
    "pids = ['SA0297','PC6771','BK7610','DC6359','MC7070','MJ8002','BU4707','JR8022','HV0618','SF3079','JB3156','CC6740','DK3500']"
   ]
  },
  {
   "cell_type": "code",
   "execution_count": 29,
   "metadata": {},
   "outputs": [
    {
     "name": "stdout",
     "output_type": "stream",
     "text": [
      "pid: SA0297\n"
     ]
    },
    {
     "name": "stderr",
     "output_type": "stream",
     "text": [
      "100%|██████████| 11630/11630 [01:15<00:00, 154.60it/s]\n"
     ]
    },
    {
     "name": "stdout",
     "output_type": "stream",
     "text": [
      "pid: PC6771\n"
     ]
    },
    {
     "name": "stderr",
     "output_type": "stream",
     "text": [
      "100%|██████████| 6197/6197 [00:38<00:00, 159.12it/s]\n"
     ]
    },
    {
     "name": "stdout",
     "output_type": "stream",
     "text": [
      "pid: BK7610\n"
     ]
    },
    {
     "name": "stderr",
     "output_type": "stream",
     "text": [
      " 26%|██▌       | 2085/7976 [00:11<00:28, 206.97it/s]/var/folders/kk/v1dq6w817kb25skcwjv3tgyw0000gn/T/ipykernel_1474/2842738104.py:40: RuntimeWarning: divide by zero encountered in double_scalars\n",
      "  spread = sqd_dev / np.sum(amplitudes)\n",
      "100%|██████████| 7976/7976 [00:41<00:00, 193.43it/s]\n"
     ]
    },
    {
     "name": "stdout",
     "output_type": "stream",
     "text": [
      "pid: DC6359\n"
     ]
    },
    {
     "name": "stderr",
     "output_type": "stream",
     "text": [
      "100%|██████████| 8145/8145 [00:42<00:00, 191.66it/s]\n"
     ]
    },
    {
     "name": "stdout",
     "output_type": "stream",
     "text": [
      "pid: MC7070\n"
     ]
    },
    {
     "name": "stderr",
     "output_type": "stream",
     "text": [
      "100%|██████████| 10903/10903 [00:57<00:00, 188.51it/s]\n"
     ]
    },
    {
     "name": "stdout",
     "output_type": "stream",
     "text": [
      "pid: MJ8002\n"
     ]
    },
    {
     "name": "stderr",
     "output_type": "stream",
     "text": [
      "100%|██████████| 7912/7912 [00:43<00:00, 182.85it/s]\n"
     ]
    },
    {
     "name": "stdout",
     "output_type": "stream",
     "text": [
      "pid: BU4707\n"
     ]
    },
    {
     "name": "stderr",
     "output_type": "stream",
     "text": [
      "100%|██████████| 5105/5105 [00:26<00:00, 194.08it/s]\n"
     ]
    },
    {
     "name": "stdout",
     "output_type": "stream",
     "text": [
      "pid: JR8022\n"
     ]
    },
    {
     "name": "stderr",
     "output_type": "stream",
     "text": [
      "100%|██████████| 8522/8522 [00:47<00:00, 178.25it/s]\n"
     ]
    },
    {
     "name": "stdout",
     "output_type": "stream",
     "text": [
      "pid: HV0618\n"
     ]
    },
    {
     "name": "stderr",
     "output_type": "stream",
     "text": [
      "100%|██████████| 8550/8550 [00:48<00:00, 177.35it/s]\n"
     ]
    },
    {
     "name": "stdout",
     "output_type": "stream",
     "text": [
      "pid: SF3079\n"
     ]
    },
    {
     "name": "stderr",
     "output_type": "stream",
     "text": [
      "100%|██████████| 10301/10301 [00:57<00:00, 178.14it/s]\n"
     ]
    },
    {
     "name": "stdout",
     "output_type": "stream",
     "text": [
      "pid: JB3156\n"
     ]
    },
    {
     "name": "stderr",
     "output_type": "stream",
     "text": [
      "100%|██████████| 10167/10167 [00:59<00:00, 169.73it/s]\n"
     ]
    },
    {
     "name": "stdout",
     "output_type": "stream",
     "text": [
      "pid: CC6740\n"
     ]
    },
    {
     "name": "stderr",
     "output_type": "stream",
     "text": [
      "100%|██████████| 9955/9955 [00:55<00:00, 178.73it/s]\n"
     ]
    },
    {
     "name": "stdout",
     "output_type": "stream",
     "text": [
      "pid: DK3500\n"
     ]
    },
    {
     "name": "stderr",
     "output_type": "stream",
     "text": [
      "  9%|▉         | 478/5303 [00:02<00:30, 156.98it/s]/var/folders/kk/v1dq6w817kb25skcwjv3tgyw0000gn/T/ipykernel_1474/2842738104.py:40: RuntimeWarning: invalid value encountered in double_scalars\n",
      "  spread = sqd_dev / np.sum(amplitudes)\n",
      "/var/folders/kk/v1dq6w817kb25skcwjv3tgyw0000gn/T/ipykernel_1474/2842738104.py:59: RuntimeWarning: invalid value encountered in divide\n",
      "  cum_sum /= np.sum(magnitude_spectrum)\n",
      "100%|██████████| 5303/5303 [00:32<00:00, 162.90it/s]\n"
     ]
    }
   ],
   "source": [
    "pid_features = []\n",
    "for pid in pids:\n",
    "    print(f\"pid: {pid}\")\n",
    "    grouped = create_data_windows(pid, \"4S\")\n",
    "    features_df = generate_features(grouped)\n",
    "\n",
    "    pid_features.append(features_df)"
   ]
  },
  {
   "cell_type": "code",
   "execution_count": 51,
   "metadata": {},
   "outputs": [],
   "source": [
    "features_df = pd.concat(pid_features, axis=0)\n",
    "\n",
    "# dropping nan and inf values\n",
    "features_df = features_df.replace([np.inf, -np.inf], np.nan).dropna()"
   ]
  },
  {
   "cell_type": "code",
   "execution_count": 54,
   "metadata": {},
   "outputs": [],
   "source": [
    "# features_df.to_parquet(\"balanced_features.parquet\")"
   ]
  },
  {
   "cell_type": "code",
   "execution_count": 55,
   "metadata": {},
   "outputs": [
    {
     "data": {
      "text/html": [
       "<div>\n",
       "<style scoped>\n",
       "    .dataframe tbody tr th:only-of-type {\n",
       "        vertical-align: middle;\n",
       "    }\n",
       "\n",
       "    .dataframe tbody tr th {\n",
       "        vertical-align: top;\n",
       "    }\n",
       "\n",
       "    .dataframe thead th {\n",
       "        text-align: right;\n",
       "    }\n",
       "</style>\n",
       "<table border=\"1\" class=\"dataframe\">\n",
       "  <thead>\n",
       "    <tr style=\"text-align: right;\">\n",
       "      <th></th>\n",
       "      <th>time</th>\n",
       "      <th>pid</th>\n",
       "      <th>x_mean</th>\n",
       "      <th>y_mean</th>\n",
       "      <th>z_mean</th>\n",
       "      <th>mag_mean</th>\n",
       "      <th>x_std</th>\n",
       "      <th>y_std</th>\n",
       "      <th>z_std</th>\n",
       "      <th>mag_std</th>\n",
       "      <th>...</th>\n",
       "      <th>y_max</th>\n",
       "      <th>z_max</th>\n",
       "      <th>mag_max</th>\n",
       "      <th>time_entropy</th>\n",
       "      <th>frequency_entropy</th>\n",
       "      <th>spectral_centroid</th>\n",
       "      <th>spectral_spread</th>\n",
       "      <th>spectral_flux</th>\n",
       "      <th>spectral_rolloff</th>\n",
       "      <th>TAC_class</th>\n",
       "    </tr>\n",
       "  </thead>\n",
       "  <tbody>\n",
       "    <tr>\n",
       "      <th>0</th>\n",
       "      <td>2017-05-02 14:04:40</td>\n",
       "      <td>SA0297</td>\n",
       "      <td>-0.222442</td>\n",
       "      <td>-0.075598</td>\n",
       "      <td>-0.015889</td>\n",
       "      <td>0.242998</td>\n",
       "      <td>6.988053e-02</td>\n",
       "      <td>3.550172e-02</td>\n",
       "      <td>7.062066e-03</td>\n",
       "      <td>5.092628e-02</td>\n",
       "      <td>...</td>\n",
       "      <td>0.0861</td>\n",
       "      <td>0.0849</td>\n",
       "      <td>0.293697</td>\n",
       "      <td>6.161106e-01</td>\n",
       "      <td>0.025375</td>\n",
       "      <td>3.205993e+04</td>\n",
       "      <td>9.724189e+08</td>\n",
       "      <td>1.265986e+04</td>\n",
       "      <td>392</td>\n",
       "      <td>0.0</td>\n",
       "    </tr>\n",
       "    <tr>\n",
       "      <th>0</th>\n",
       "      <td>2017-05-02 14:04:44</td>\n",
       "      <td>SA0297</td>\n",
       "      <td>0.009088</td>\n",
       "      <td>-0.042815</td>\n",
       "      <td>-0.008202</td>\n",
       "      <td>0.073136</td>\n",
       "      <td>3.185934e-02</td>\n",
       "      <td>5.166347e-02</td>\n",
       "      <td>2.756228e-02</td>\n",
       "      <td>3.283147e-02</td>\n",
       "      <td>...</td>\n",
       "      <td>0.1881</td>\n",
       "      <td>0.1161</td>\n",
       "      <td>0.227391</td>\n",
       "      <td>2.089842e+00</td>\n",
       "      <td>0.049024</td>\n",
       "      <td>-1.743570e+04</td>\n",
       "      <td>3.120597e+08</td>\n",
       "      <td>1.920136e+03</td>\n",
       "      <td>987</td>\n",
       "      <td>0.0</td>\n",
       "    </tr>\n",
       "    <tr>\n",
       "      <th>0</th>\n",
       "      <td>2017-05-02 14:04:48</td>\n",
       "      <td>SA0297</td>\n",
       "      <td>0.000233</td>\n",
       "      <td>0.000279</td>\n",
       "      <td>-0.012446</td>\n",
       "      <td>0.056119</td>\n",
       "      <td>2.208625e-02</td>\n",
       "      <td>1.088092e-02</td>\n",
       "      <td>5.806136e-02</td>\n",
       "      <td>3.135288e-02</td>\n",
       "      <td>...</td>\n",
       "      <td>0.0324</td>\n",
       "      <td>0.1393</td>\n",
       "      <td>0.146422</td>\n",
       "      <td>2.926396e+00</td>\n",
       "      <td>0.247524</td>\n",
       "      <td>8.175000e+02</td>\n",
       "      <td>5.876386e+05</td>\n",
       "      <td>1.740432e+03</td>\n",
       "      <td>990</td>\n",
       "      <td>0.0</td>\n",
       "    </tr>\n",
       "    <tr>\n",
       "      <th>0</th>\n",
       "      <td>2017-05-02 14:04:52</td>\n",
       "      <td>SA0297</td>\n",
       "      <td>0.015000</td>\n",
       "      <td>0.012800</td>\n",
       "      <td>-0.025800</td>\n",
       "      <td>0.032473</td>\n",
       "      <td>6.938894e-18</td>\n",
       "      <td>3.469447e-18</td>\n",
       "      <td>6.938894e-18</td>\n",
       "      <td>6.938894e-18</td>\n",
       "      <td>...</td>\n",
       "      <td>0.0128</td>\n",
       "      <td>0.0258</td>\n",
       "      <td>0.032473</td>\n",
       "      <td>-1.442695e-10</td>\n",
       "      <td>0.011408</td>\n",
       "      <td>3.105155e-13</td>\n",
       "      <td>1.286114e-10</td>\n",
       "      <td>4.000000e+00</td>\n",
       "      <td>0</td>\n",
       "      <td>0.0</td>\n",
       "    </tr>\n",
       "    <tr>\n",
       "      <th>0</th>\n",
       "      <td>2017-05-02 14:04:56</td>\n",
       "      <td>SA0297</td>\n",
       "      <td>0.028955</td>\n",
       "      <td>0.019178</td>\n",
       "      <td>-0.011516</td>\n",
       "      <td>0.118029</td>\n",
       "      <td>1.039950e-01</td>\n",
       "      <td>5.769088e-02</td>\n",
       "      <td>1.421302e-01</td>\n",
       "      <td>1.474860e-01</td>\n",
       "      <td>...</td>\n",
       "      <td>0.2176</td>\n",
       "      <td>0.7028</td>\n",
       "      <td>0.715980</td>\n",
       "      <td>1.300715e+00</td>\n",
       "      <td>0.308401</td>\n",
       "      <td>-1.730865e+04</td>\n",
       "      <td>-7.448975e+06</td>\n",
       "      <td>3.402120e+03</td>\n",
       "      <td>991</td>\n",
       "      <td>0.0</td>\n",
       "    </tr>\n",
       "    <tr>\n",
       "      <th>...</th>\n",
       "      <td>...</td>\n",
       "      <td>...</td>\n",
       "      <td>...</td>\n",
       "      <td>...</td>\n",
       "      <td>...</td>\n",
       "      <td>...</td>\n",
       "      <td>...</td>\n",
       "      <td>...</td>\n",
       "      <td>...</td>\n",
       "      <td>...</td>\n",
       "      <td>...</td>\n",
       "      <td>...</td>\n",
       "      <td>...</td>\n",
       "      <td>...</td>\n",
       "      <td>...</td>\n",
       "      <td>...</td>\n",
       "      <td>...</td>\n",
       "      <td>...</td>\n",
       "      <td>...</td>\n",
       "      <td>...</td>\n",
       "      <td>...</td>\n",
       "    </tr>\n",
       "    <tr>\n",
       "      <th>0</th>\n",
       "      <td>2017-05-02 22:58:24</td>\n",
       "      <td>DK3500</td>\n",
       "      <td>-0.282059</td>\n",
       "      <td>0.812773</td>\n",
       "      <td>0.919243</td>\n",
       "      <td>1.494816</td>\n",
       "      <td>5.524381e-01</td>\n",
       "      <td>7.710623e-01</td>\n",
       "      <td>4.508139e-01</td>\n",
       "      <td>6.735337e-01</td>\n",
       "      <td>...</td>\n",
       "      <td>3.6328</td>\n",
       "      <td>2.8105</td>\n",
       "      <td>4.068333</td>\n",
       "      <td>2.195081e+00</td>\n",
       "      <td>0.011408</td>\n",
       "      <td>1.963719e+05</td>\n",
       "      <td>3.852014e+10</td>\n",
       "      <td>2.606618e+06</td>\n",
       "      <td>973</td>\n",
       "      <td>0.0</td>\n",
       "    </tr>\n",
       "    <tr>\n",
       "      <th>0</th>\n",
       "      <td>2017-05-02 22:58:28</td>\n",
       "      <td>DK3500</td>\n",
       "      <td>-0.398836</td>\n",
       "      <td>0.841703</td>\n",
       "      <td>0.873992</td>\n",
       "      <td>1.500703</td>\n",
       "      <td>5.797443e-01</td>\n",
       "      <td>6.457703e-01</td>\n",
       "      <td>4.180652e-01</td>\n",
       "      <td>5.542438e-01</td>\n",
       "      <td>...</td>\n",
       "      <td>2.2785</td>\n",
       "      <td>2.4691</td>\n",
       "      <td>3.493737</td>\n",
       "      <td>2.831896e+00</td>\n",
       "      <td>0.011408</td>\n",
       "      <td>-1.217293e+05</td>\n",
       "      <td>1.479031e+10</td>\n",
       "      <td>1.813968e+06</td>\n",
       "      <td>985</td>\n",
       "      <td>0.0</td>\n",
       "    </tr>\n",
       "    <tr>\n",
       "      <th>0</th>\n",
       "      <td>2017-05-02 22:58:32</td>\n",
       "      <td>DK3500</td>\n",
       "      <td>-0.395525</td>\n",
       "      <td>0.851949</td>\n",
       "      <td>0.918978</td>\n",
       "      <td>1.517392</td>\n",
       "      <td>5.291713e-01</td>\n",
       "      <td>6.721786e-01</td>\n",
       "      <td>4.653721e-01</td>\n",
       "      <td>6.105056e-01</td>\n",
       "      <td>...</td>\n",
       "      <td>3.0226</td>\n",
       "      <td>2.8839</td>\n",
       "      <td>3.568501</td>\n",
       "      <td>2.319288e+00</td>\n",
       "      <td>0.011408</td>\n",
       "      <td>-9.660115e+04</td>\n",
       "      <td>9.315850e+09</td>\n",
       "      <td>2.201106e+06</td>\n",
       "      <td>975</td>\n",
       "      <td>0.0</td>\n",
       "    </tr>\n",
       "    <tr>\n",
       "      <th>0</th>\n",
       "      <td>2017-05-02 22:58:36</td>\n",
       "      <td>DK3500</td>\n",
       "      <td>-0.445867</td>\n",
       "      <td>0.862403</td>\n",
       "      <td>0.879934</td>\n",
       "      <td>1.460645</td>\n",
       "      <td>4.950609e-01</td>\n",
       "      <td>5.739813e-01</td>\n",
       "      <td>3.984550e-01</td>\n",
       "      <td>5.627110e-01</td>\n",
       "      <td>...</td>\n",
       "      <td>1.9277</td>\n",
       "      <td>2.4865</td>\n",
       "      <td>3.384682</td>\n",
       "      <td>2.608129e+00</td>\n",
       "      <td>0.011408</td>\n",
       "      <td>-6.160347e+05</td>\n",
       "      <td>3.677053e+11</td>\n",
       "      <td>1.677647e+06</td>\n",
       "      <td>981</td>\n",
       "      <td>0.0</td>\n",
       "    </tr>\n",
       "    <tr>\n",
       "      <th>0</th>\n",
       "      <td>2017-05-02 22:58:40</td>\n",
       "      <td>DK3500</td>\n",
       "      <td>-0.485687</td>\n",
       "      <td>0.883941</td>\n",
       "      <td>0.877975</td>\n",
       "      <td>1.584126</td>\n",
       "      <td>5.767447e-01</td>\n",
       "      <td>8.154755e-01</td>\n",
       "      <td>5.074037e-01</td>\n",
       "      <td>7.305644e-01</td>\n",
       "      <td>...</td>\n",
       "      <td>3.7605</td>\n",
       "      <td>2.7199</td>\n",
       "      <td>4.501765</td>\n",
       "      <td>2.586329e+00</td>\n",
       "      <td>0.012410</td>\n",
       "      <td>-3.928326e+03</td>\n",
       "      <td>1.541707e+07</td>\n",
       "      <td>1.543899e+06</td>\n",
       "      <td>883</td>\n",
       "      <td>0.0</td>\n",
       "    </tr>\n",
       "  </tbody>\n",
       "</table>\n",
       "<p>110663 rows × 28 columns</p>\n",
       "</div>"
      ],
      "text/plain": [
       "                  time     pid    x_mean    y_mean    z_mean  mag_mean  \\\n",
       "0  2017-05-02 14:04:40  SA0297 -0.222442 -0.075598 -0.015889  0.242998   \n",
       "0  2017-05-02 14:04:44  SA0297  0.009088 -0.042815 -0.008202  0.073136   \n",
       "0  2017-05-02 14:04:48  SA0297  0.000233  0.000279 -0.012446  0.056119   \n",
       "0  2017-05-02 14:04:52  SA0297  0.015000  0.012800 -0.025800  0.032473   \n",
       "0  2017-05-02 14:04:56  SA0297  0.028955  0.019178 -0.011516  0.118029   \n",
       "..                 ...     ...       ...       ...       ...       ...   \n",
       "0  2017-05-02 22:58:24  DK3500 -0.282059  0.812773  0.919243  1.494816   \n",
       "0  2017-05-02 22:58:28  DK3500 -0.398836  0.841703  0.873992  1.500703   \n",
       "0  2017-05-02 22:58:32  DK3500 -0.395525  0.851949  0.918978  1.517392   \n",
       "0  2017-05-02 22:58:36  DK3500 -0.445867  0.862403  0.879934  1.460645   \n",
       "0  2017-05-02 22:58:40  DK3500 -0.485687  0.883941  0.877975  1.584126   \n",
       "\n",
       "           x_std         y_std         z_std       mag_std  ...   y_max  \\\n",
       "0   6.988053e-02  3.550172e-02  7.062066e-03  5.092628e-02  ...  0.0861   \n",
       "0   3.185934e-02  5.166347e-02  2.756228e-02  3.283147e-02  ...  0.1881   \n",
       "0   2.208625e-02  1.088092e-02  5.806136e-02  3.135288e-02  ...  0.0324   \n",
       "0   6.938894e-18  3.469447e-18  6.938894e-18  6.938894e-18  ...  0.0128   \n",
       "0   1.039950e-01  5.769088e-02  1.421302e-01  1.474860e-01  ...  0.2176   \n",
       "..           ...           ...           ...           ...  ...     ...   \n",
       "0   5.524381e-01  7.710623e-01  4.508139e-01  6.735337e-01  ...  3.6328   \n",
       "0   5.797443e-01  6.457703e-01  4.180652e-01  5.542438e-01  ...  2.2785   \n",
       "0   5.291713e-01  6.721786e-01  4.653721e-01  6.105056e-01  ...  3.0226   \n",
       "0   4.950609e-01  5.739813e-01  3.984550e-01  5.627110e-01  ...  1.9277   \n",
       "0   5.767447e-01  8.154755e-01  5.074037e-01  7.305644e-01  ...  3.7605   \n",
       "\n",
       "     z_max   mag_max  time_entropy  frequency_entropy  spectral_centroid  \\\n",
       "0   0.0849  0.293697  6.161106e-01           0.025375       3.205993e+04   \n",
       "0   0.1161  0.227391  2.089842e+00           0.049024      -1.743570e+04   \n",
       "0   0.1393  0.146422  2.926396e+00           0.247524       8.175000e+02   \n",
       "0   0.0258  0.032473 -1.442695e-10           0.011408       3.105155e-13   \n",
       "0   0.7028  0.715980  1.300715e+00           0.308401      -1.730865e+04   \n",
       "..     ...       ...           ...                ...                ...   \n",
       "0   2.8105  4.068333  2.195081e+00           0.011408       1.963719e+05   \n",
       "0   2.4691  3.493737  2.831896e+00           0.011408      -1.217293e+05   \n",
       "0   2.8839  3.568501  2.319288e+00           0.011408      -9.660115e+04   \n",
       "0   2.4865  3.384682  2.608129e+00           0.011408      -6.160347e+05   \n",
       "0   2.7199  4.501765  2.586329e+00           0.012410      -3.928326e+03   \n",
       "\n",
       "    spectral_spread  spectral_flux  spectral_rolloff  TAC_class  \n",
       "0      9.724189e+08   1.265986e+04               392        0.0  \n",
       "0      3.120597e+08   1.920136e+03               987        0.0  \n",
       "0      5.876386e+05   1.740432e+03               990        0.0  \n",
       "0      1.286114e-10   4.000000e+00                 0        0.0  \n",
       "0     -7.448975e+06   3.402120e+03               991        0.0  \n",
       "..              ...            ...               ...        ...  \n",
       "0      3.852014e+10   2.606618e+06               973        0.0  \n",
       "0      1.479031e+10   1.813968e+06               985        0.0  \n",
       "0      9.315850e+09   2.201106e+06               975        0.0  \n",
       "0      3.677053e+11   1.677647e+06               981        0.0  \n",
       "0      1.541707e+07   1.543899e+06               883        0.0  \n",
       "\n",
       "[110663 rows x 28 columns]"
      ]
     },
     "execution_count": 55,
     "metadata": {},
     "output_type": "execute_result"
    }
   ],
   "source": [
    "features_df = pd.read_parquet(\"balanced_features.parquet\")\n",
    "\n",
    "features_df"
   ]
  },
  {
   "cell_type": "markdown",
   "metadata": {},
   "source": [
    "## Feature Visualization"
   ]
  },
  {
   "cell_type": "code",
   "execution_count": 42,
   "metadata": {},
   "outputs": [],
   "source": [
    "def plot_feature_vs_feature(df, pid, feature_x, feature_y):\n",
    "    # Set seaborn style\n",
    "    sns.set_style(\"whitegrid\")\n",
    "\n",
    "    pid_df = df.loc[df['pid'] == pid]\n",
    "    size = min(10000, len(pid_df))\n",
    "    pid_subset = pid_df.sample(size)\n",
    "\n",
    "    plt.figure(figsize=(8, 6))\n",
    "    sns.scatterplot(x=feature_x, y=feature_y, hue='TAC_class', data=pid_subset, palette='viridis', s=10)\n",
    "    plt.title(f'{feature_x} vs. {feature_y} Visualization')\n",
    "    plt.xlabel(feature_x)\n",
    "    plt.ylabel(feature_y)\n",
    "    plt.legend(title='TAC Class', loc='upper right')\n",
    "    plt.show()"
   ]
  },
  {
   "cell_type": "code",
   "execution_count": 45,
   "metadata": {},
   "outputs": [
    {
     "data": {
      "image/png": "[encoded data removed]",
      "text/plain": [
       "<Figure size 800x600 with 1 Axes>"
      ]
     },
     "metadata": {},
     "output_type": "display_data"
    }
   ],
   "source": [
    "plot_feature_vs_feature(features_df, 'SA0297', 'time', 'mag_mean')"
   ]
  },
  {
   "cell_type": "code",
   "execution_count": null,
   "metadata": {},
   "outputs": [],
   "source": []
  }
 ],
 "metadata": {
  "kernelspec": {
   "display_name": "Python 3",
   "language": "python",
   "name": "python3"
  },
  "language_info": {
   "codemirror_mode": {
    "name": "ipython",
    "version": 3
   },
   "file_extension": ".py",
   "mimetype": "text/x-python",
   "name": "python",
   "nbconvert_exporter": "python",
   "pygments_lexer": "ipython3",
   "version": "3.8.4"
  }
 },
 "nbformat": 4,
 "nbformat_minor": 2
}
