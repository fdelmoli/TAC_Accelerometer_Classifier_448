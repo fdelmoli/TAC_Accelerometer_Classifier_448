{
 "cells": [
  {
   "cell_type": "markdown",
   "metadata": {},
   "source": [
    "## Detecting Heavy Drinking Data Preprocessing"
   ]
  },
  {
   "cell_type": "code",
   "execution_count": 1,
   "metadata": {},
   "outputs": [],
   "source": [
    "import numpy as np\n",
    "import pandas as pd\n",
    "import matplotlib.pyplot as plt\n",
    "\n",
    "from tqdm import tqdm"
   ]
  },
  {
   "cell_type": "markdown",
   "metadata": {},
   "source": [
    "## Gathering Accelerometer Data"
   ]
  },
  {
   "cell_type": "code",
   "execution_count": 17,
   "metadata": {},
   "outputs": [],
   "source": [
    "accel_data = pd.read_csv(\"data/all_accelerometer_data_pids_13.csv\")"
   ]
  },
  {
   "cell_type": "code",
   "execution_count": 47,
   "metadata": {},
   "outputs": [],
   "source": [
    "accel_data['time'] = pd.to_datetime(accel_data['time'], unit='ms')\n",
    "year_2017 = pd.to_datetime('2017')\n",
    "accel_data = accel_data.loc[accel_data['time'] > year_2017]"
   ]
  },
  {
   "cell_type": "code",
   "execution_count": 51,
   "metadata": {},
   "outputs": [],
   "source": [
    "accel_data.to_parquet(\"all_accelerometer_data.parquet\")"
   ]
  },
  {
   "cell_type": "code",
   "execution_count": 52,
   "metadata": {},
   "outputs": [],
   "source": [
    "accel_data = pd.read_parquet(\"all_accelerometer_data.parquet\")"
   ]
  },
  {
   "cell_type": "code",
   "execution_count": 53,
   "metadata": {},
   "outputs": [
    {
     "data": {
      "text/html": [
       "<div>\n",
       "<style scoped>\n",
       "    .dataframe tbody tr th:only-of-type {\n",
       "        vertical-align: middle;\n",
       "    }\n",
       "\n",
       "    .dataframe tbody tr th {\n",
       "        vertical-align: top;\n",
       "    }\n",
       "\n",
       "    .dataframe thead th {\n",
       "        text-align: right;\n",
       "    }\n",
       "</style>\n",
       "<table border=\"1\" class=\"dataframe\">\n",
       "  <thead>\n",
       "    <tr style=\"text-align: right;\">\n",
       "      <th></th>\n",
       "      <th>time</th>\n",
       "      <th>pid</th>\n",
       "      <th>x</th>\n",
       "      <th>y</th>\n",
       "      <th>z</th>\n",
       "    </tr>\n",
       "  </thead>\n",
       "  <tbody>\n",
       "    <tr>\n",
       "      <th>2</th>\n",
       "      <td>2017-05-02 14:04:42.409</td>\n",
       "      <td>SA0297</td>\n",
       "      <td>0.075800</td>\n",
       "      <td>0.027300</td>\n",
       "      <td>-0.010200</td>\n",
       "    </tr>\n",
       "    <tr>\n",
       "      <th>3</th>\n",
       "      <td>2017-05-02 14:04:42.455</td>\n",
       "      <td>SA0297</td>\n",
       "      <td>-0.035900</td>\n",
       "      <td>0.079400</td>\n",
       "      <td>0.003700</td>\n",
       "    </tr>\n",
       "    <tr>\n",
       "      <th>4</th>\n",
       "      <td>2017-05-02 14:04:42.500</td>\n",
       "      <td>SA0297</td>\n",
       "      <td>-0.242700</td>\n",
       "      <td>-0.086100</td>\n",
       "      <td>-0.016300</td>\n",
       "    </tr>\n",
       "    <tr>\n",
       "      <th>5</th>\n",
       "      <td>2017-05-02 14:04:43.945</td>\n",
       "      <td>SA0297</td>\n",
       "      <td>-0.288800</td>\n",
       "      <td>0.051400</td>\n",
       "      <td>-0.014500</td>\n",
       "    </tr>\n",
       "    <tr>\n",
       "      <th>6</th>\n",
       "      <td>2017-05-02 14:04:43.953</td>\n",
       "      <td>SA0297</td>\n",
       "      <td>-0.041300</td>\n",
       "      <td>-0.018400</td>\n",
       "      <td>-0.010500</td>\n",
       "    </tr>\n",
       "    <tr>\n",
       "      <th>...</th>\n",
       "      <td>...</td>\n",
       "      <td>...</td>\n",
       "      <td>...</td>\n",
       "      <td>...</td>\n",
       "      <td>...</td>\n",
       "    </tr>\n",
       "    <tr>\n",
       "      <th>14057562</th>\n",
       "      <td>2017-05-03 16:34:08.196</td>\n",
       "      <td>CC6740</td>\n",
       "      <td>-0.133956</td>\n",
       "      <td>0.124726</td>\n",
       "      <td>-0.010736</td>\n",
       "    </tr>\n",
       "    <tr>\n",
       "      <th>14057563</th>\n",
       "      <td>2017-05-03 16:34:08.220</td>\n",
       "      <td>CC6740</td>\n",
       "      <td>-0.100764</td>\n",
       "      <td>0.180872</td>\n",
       "      <td>0.046449</td>\n",
       "    </tr>\n",
       "    <tr>\n",
       "      <th>14057564</th>\n",
       "      <td>2017-05-03 16:34:08.245</td>\n",
       "      <td>CC6740</td>\n",
       "      <td>-0.131853</td>\n",
       "      <td>0.195934</td>\n",
       "      <td>0.181088</td>\n",
       "    </tr>\n",
       "    <tr>\n",
       "      <th>14057565</th>\n",
       "      <td>2017-05-03 16:34:08.270</td>\n",
       "      <td>CC6740</td>\n",
       "      <td>-0.149704</td>\n",
       "      <td>0.194482</td>\n",
       "      <td>0.202393</td>\n",
       "    </tr>\n",
       "    <tr>\n",
       "      <th>14057566</th>\n",
       "      <td>2017-05-03 16:34:08.294</td>\n",
       "      <td>CC6740</td>\n",
       "      <td>-0.107288</td>\n",
       "      <td>0.153548</td>\n",
       "      <td>0.168595</td>\n",
       "    </tr>\n",
       "  </tbody>\n",
       "</table>\n",
       "<p>14057565 rows × 5 columns</p>\n",
       "</div>"
      ],
      "text/plain": [
       "                            time     pid         x         y         z\n",
       "2        2017-05-02 14:04:42.409  SA0297  0.075800  0.027300 -0.010200\n",
       "3        2017-05-02 14:04:42.455  SA0297 -0.035900  0.079400  0.003700\n",
       "4        2017-05-02 14:04:42.500  SA0297 -0.242700 -0.086100 -0.016300\n",
       "5        2017-05-02 14:04:43.945  SA0297 -0.288800  0.051400 -0.014500\n",
       "6        2017-05-02 14:04:43.953  SA0297 -0.041300 -0.018400 -0.010500\n",
       "...                          ...     ...       ...       ...       ...\n",
       "14057562 2017-05-03 16:34:08.196  CC6740 -0.133956  0.124726 -0.010736\n",
       "14057563 2017-05-03 16:34:08.220  CC6740 -0.100764  0.180872  0.046449\n",
       "14057564 2017-05-03 16:34:08.245  CC6740 -0.131853  0.195934  0.181088\n",
       "14057565 2017-05-03 16:34:08.270  CC6740 -0.149704  0.194482  0.202393\n",
       "14057566 2017-05-03 16:34:08.294  CC6740 -0.107288  0.153548  0.168595\n",
       "\n",
       "[14057565 rows x 5 columns]"
      ]
     },
     "execution_count": 53,
     "metadata": {},
     "output_type": "execute_result"
    }
   ],
   "source": [
    "accel_data"
   ]
  },
  {
   "cell_type": "markdown",
   "metadata": {},
   "source": [
    "## Resampling Accelerometer Data"
   ]
  },
  {
   "cell_type": "code",
   "execution_count": 62,
   "metadata": {},
   "outputs": [],
   "source": [
    "def resample_data_frequency(df):\n",
    "    df.set_index('time', inplace=True)\n",
    "    resampled_df = df.groupby('pid').resample('100L').first().reset_index()\n",
    "    resampled_df.reset_index(drop=True, inplace=True)\n",
    "\n",
    "    return resampled_df\n"
   ]
  },
  {
   "cell_type": "markdown",
   "metadata": {},
   "source": [
    "## Gathering TAC Data"
   ]
  },
  {
   "cell_type": "code",
   "execution_count": 23,
   "metadata": {},
   "outputs": [
    {
     "data": {
      "text/plain": [
       "['JB3156',\n",
       " 'CC6740',\n",
       " 'SA0297',\n",
       " 'PC6771',\n",
       " 'BK7610',\n",
       " 'DC6359',\n",
       " 'MC7070',\n",
       " 'MJ8002',\n",
       " 'BU4707',\n",
       " 'JR8022',\n",
       " 'HV0618',\n",
       " 'SF3079',\n",
       " 'DK3500']"
      ]
     },
     "execution_count": 23,
     "metadata": {},
     "output_type": "execute_result"
    }
   ],
   "source": [
    "pids = list(accel_data['pid'].unique())\n",
    "pids"
   ]
  },
  {
   "cell_type": "code",
   "execution_count": 40,
   "metadata": {},
   "outputs": [],
   "source": [
    "pid_tac_dfs = []\n",
    "\n",
    "for pid in pids:\n",
    "    pid_tac = pd.read_csv(f\"data/clean_tac/{pid}_clean_TAC.csv\")\n",
    "    pid_tac = pid_tac.rename(columns={\"timestamp\":\"time\"})\n",
    "    pid_tac['time'] = pd.to_datetime(pid_tac['time'], unit='s')\n",
    "    pid_tac['pid'] = pid\n",
    "    pid_tac = pid_tac[['time', 'pid', 'TAC_Reading']]\n",
    "\n",
    "    pid_tac_dfs.append(pid_tac)"
   ]
  },
  {
   "cell_type": "code",
   "execution_count": 41,
   "metadata": {},
   "outputs": [],
   "source": [
    "all_tac_df = pd.concat(pid_tac_dfs, axis=0)"
   ]
  },
  {
   "cell_type": "code",
   "execution_count": 42,
   "metadata": {},
   "outputs": [
    {
     "data": {
      "text/html": [
       "<div>\n",
       "<style scoped>\n",
       "    .dataframe tbody tr th:only-of-type {\n",
       "        vertical-align: middle;\n",
       "    }\n",
       "\n",
       "    .dataframe tbody tr th {\n",
       "        vertical-align: top;\n",
       "    }\n",
       "\n",
       "    .dataframe thead th {\n",
       "        text-align: right;\n",
       "    }\n",
       "</style>\n",
       "<table border=\"1\" class=\"dataframe\">\n",
       "  <thead>\n",
       "    <tr style=\"text-align: right;\">\n",
       "      <th></th>\n",
       "      <th>time</th>\n",
       "      <th>pid</th>\n",
       "      <th>TAC_Reading</th>\n",
       "    </tr>\n",
       "  </thead>\n",
       "  <tbody>\n",
       "    <tr>\n",
       "      <th>0</th>\n",
       "      <td>2017-05-02 11:00:16</td>\n",
       "      <td>JB3156</td>\n",
       "      <td>0.002387</td>\n",
       "    </tr>\n",
       "    <tr>\n",
       "      <th>1</th>\n",
       "      <td>2017-05-02 11:30:39</td>\n",
       "      <td>JB3156</td>\n",
       "      <td>0.000271</td>\n",
       "    </tr>\n",
       "    <tr>\n",
       "      <th>2</th>\n",
       "      <td>2017-05-02 11:35:54</td>\n",
       "      <td>JB3156</td>\n",
       "      <td>-0.000839</td>\n",
       "    </tr>\n",
       "    <tr>\n",
       "      <th>3</th>\n",
       "      <td>2017-05-02 11:41:08</td>\n",
       "      <td>JB3156</td>\n",
       "      <td>-0.000651</td>\n",
       "    </tr>\n",
       "    <tr>\n",
       "      <th>4</th>\n",
       "      <td>2017-05-02 11:46:23</td>\n",
       "      <td>JB3156</td>\n",
       "      <td>0.000234</td>\n",
       "    </tr>\n",
       "    <tr>\n",
       "      <th>...</th>\n",
       "      <td>...</td>\n",
       "      <td>...</td>\n",
       "      <td>...</td>\n",
       "    </tr>\n",
       "    <tr>\n",
       "      <th>46</th>\n",
       "      <td>2017-05-03 07:34:28</td>\n",
       "      <td>DK3500</td>\n",
       "      <td>0.011820</td>\n",
       "    </tr>\n",
       "    <tr>\n",
       "      <th>47</th>\n",
       "      <td>2017-05-03 08:04:52</td>\n",
       "      <td>DK3500</td>\n",
       "      <td>0.011012</td>\n",
       "    </tr>\n",
       "    <tr>\n",
       "      <th>48</th>\n",
       "      <td>2017-05-03 08:35:16</td>\n",
       "      <td>DK3500</td>\n",
       "      <td>0.010660</td>\n",
       "    </tr>\n",
       "    <tr>\n",
       "      <th>49</th>\n",
       "      <td>2017-05-03 09:05:38</td>\n",
       "      <td>DK3500</td>\n",
       "      <td>0.011030</td>\n",
       "    </tr>\n",
       "    <tr>\n",
       "      <th>50</th>\n",
       "      <td>2017-05-03 09:36:01</td>\n",
       "      <td>DK3500</td>\n",
       "      <td>0.011943</td>\n",
       "    </tr>\n",
       "  </tbody>\n",
       "</table>\n",
       "<p>715 rows × 3 columns</p>\n",
       "</div>"
      ],
      "text/plain": [
       "                  time     pid  TAC_Reading\n",
       "0  2017-05-02 11:00:16  JB3156     0.002387\n",
       "1  2017-05-02 11:30:39  JB3156     0.000271\n",
       "2  2017-05-02 11:35:54  JB3156    -0.000839\n",
       "3  2017-05-02 11:41:08  JB3156    -0.000651\n",
       "4  2017-05-02 11:46:23  JB3156     0.000234\n",
       "..                 ...     ...          ...\n",
       "46 2017-05-03 07:34:28  DK3500     0.011820\n",
       "47 2017-05-03 08:04:52  DK3500     0.011012\n",
       "48 2017-05-03 08:35:16  DK3500     0.010660\n",
       "49 2017-05-03 09:05:38  DK3500     0.011030\n",
       "50 2017-05-03 09:36:01  DK3500     0.011943\n",
       "\n",
       "[715 rows x 3 columns]"
      ]
     },
     "execution_count": 42,
     "metadata": {},
     "output_type": "execute_result"
    }
   ],
   "source": [
    "all_tac_df"
   ]
  }
 ],
 "metadata": {
  "kernelspec": {
   "display_name": "Python 3",
   "language": "python",
   "name": "python3"
  },
  "language_info": {
   "codemirror_mode": {
    "name": "ipython",
    "version": 3
   },
   "file_extension": ".py",
   "mimetype": "text/x-python",
   "name": "python",
   "nbconvert_exporter": "python",
   "pygments_lexer": "ipython3",
   "version": "3.8.4"
  }
 },
 "nbformat": 4,
 "nbformat_minor": 2
}
