{
 "cells": [
  {
   "cell_type": "markdown",
   "metadata": {},
   "source": [
    "## Detecting Heavy Drinking Data Preprocessing"
   ]
  },
  {
   "cell_type": "code",
   "execution_count": 1,
   "metadata": {},
   "outputs": [
    {
     "ename": "ModuleNotFoundError",
     "evalue": "No module named 'numpy'",
     "output_type": "error",
     "traceback": [
      "\u001b[0;31m---------------------------------------------------------------------------\u001b[0m",
      "\u001b[0;31mModuleNotFoundError\u001b[0m                       Traceback (most recent call last)",
      "Cell \u001b[0;32mIn[1], line 1\u001b[0m\n\u001b[0;32m----> 1\u001b[0m \u001b[38;5;28;01mimport\u001b[39;00m \u001b[38;5;21;01mnumpy\u001b[39;00m \u001b[38;5;28;01mas\u001b[39;00m \u001b[38;5;21;01mnp\u001b[39;00m\n\u001b[1;32m      2\u001b[0m \u001b[38;5;28;01mimport\u001b[39;00m \u001b[38;5;21;01mpandas\u001b[39;00m \u001b[38;5;28;01mas\u001b[39;00m \u001b[38;5;21;01mpd\u001b[39;00m\n\u001b[1;32m      3\u001b[0m \u001b[38;5;28;01mimport\u001b[39;00m \u001b[38;5;21;01mmatplotlib\u001b[39;00m\u001b[38;5;21;01m.\u001b[39;00m\u001b[38;5;21;01mpyplot\u001b[39;00m \u001b[38;5;28;01mas\u001b[39;00m \u001b[38;5;21;01mplt\u001b[39;00m\n",
      "\u001b[0;31mModuleNotFoundError\u001b[0m: No module named 'numpy'"
     ]
    }
   ],
   "source": [
    "import numpy as np\n",
    "import pandas as pd\n",
    "import matplotlib.pyplot as plt\n",
    "\n",
    "from tqdm import tqdm"
   ]
  },
  {
   "cell_type": "markdown",
   "metadata": {},
   "source": [
    "## Gathering Accelerometer Data"
   ]
  },
  {
   "cell_type": "code",
   "execution_count": 26,
   "metadata": {},
   "outputs": [],
   "source": [
    "accel_data = pd.read_parquet(\"all_accelerometer_data.parquet\")"
   ]
  },
  {
   "cell_type": "code",
   "execution_count": 27,
   "metadata": {},
   "outputs": [
    {
     "data": {
      "text/html": [
       "<div>\n",
       "<style scoped>\n",
       "    .dataframe tbody tr th:only-of-type {\n",
       "        vertical-align: middle;\n",
       "    }\n",
       "\n",
       "    .dataframe tbody tr th {\n",
       "        vertical-align: top;\n",
       "    }\n",
       "\n",
       "    .dataframe thead th {\n",
       "        text-align: right;\n",
       "    }\n",
       "</style>\n",
       "<table border=\"1\" class=\"dataframe\">\n",
       "  <thead>\n",
       "    <tr style=\"text-align: right;\">\n",
       "      <th></th>\n",
       "      <th>time</th>\n",
       "      <th>pid</th>\n",
       "      <th>x</th>\n",
       "      <th>y</th>\n",
       "      <th>z</th>\n",
       "    </tr>\n",
       "  </thead>\n",
       "  <tbody>\n",
       "    <tr>\n",
       "      <th>0</th>\n",
       "      <td>2017-05-02 14:04:42.409</td>\n",
       "      <td>SA0297</td>\n",
       "      <td>0.075800</td>\n",
       "      <td>0.027300</td>\n",
       "      <td>-0.010200</td>\n",
       "    </tr>\n",
       "    <tr>\n",
       "      <th>1</th>\n",
       "      <td>2017-05-02 14:04:42.455</td>\n",
       "      <td>SA0297</td>\n",
       "      <td>-0.035900</td>\n",
       "      <td>0.079400</td>\n",
       "      <td>0.003700</td>\n",
       "    </tr>\n",
       "    <tr>\n",
       "      <th>2</th>\n",
       "      <td>2017-05-02 14:04:42.500</td>\n",
       "      <td>SA0297</td>\n",
       "      <td>-0.242700</td>\n",
       "      <td>-0.086100</td>\n",
       "      <td>-0.016300</td>\n",
       "    </tr>\n",
       "    <tr>\n",
       "      <th>3</th>\n",
       "      <td>2017-05-02 14:04:43.945</td>\n",
       "      <td>SA0297</td>\n",
       "      <td>-0.288800</td>\n",
       "      <td>0.051400</td>\n",
       "      <td>-0.014500</td>\n",
       "    </tr>\n",
       "    <tr>\n",
       "      <th>4</th>\n",
       "      <td>2017-05-02 14:04:43.953</td>\n",
       "      <td>SA0297</td>\n",
       "      <td>-0.041300</td>\n",
       "      <td>-0.018400</td>\n",
       "      <td>-0.010500</td>\n",
       "    </tr>\n",
       "    <tr>\n",
       "      <th>...</th>\n",
       "      <td>...</td>\n",
       "      <td>...</td>\n",
       "      <td>...</td>\n",
       "      <td>...</td>\n",
       "      <td>...</td>\n",
       "    </tr>\n",
       "    <tr>\n",
       "      <th>14057560</th>\n",
       "      <td>2017-05-03 16:34:08.196</td>\n",
       "      <td>CC6740</td>\n",
       "      <td>-0.133956</td>\n",
       "      <td>0.124726</td>\n",
       "      <td>-0.010736</td>\n",
       "    </tr>\n",
       "    <tr>\n",
       "      <th>14057561</th>\n",
       "      <td>2017-05-03 16:34:08.220</td>\n",
       "      <td>CC6740</td>\n",
       "      <td>-0.100764</td>\n",
       "      <td>0.180872</td>\n",
       "      <td>0.046449</td>\n",
       "    </tr>\n",
       "    <tr>\n",
       "      <th>14057562</th>\n",
       "      <td>2017-05-03 16:34:08.245</td>\n",
       "      <td>CC6740</td>\n",
       "      <td>-0.131853</td>\n",
       "      <td>0.195934</td>\n",
       "      <td>0.181088</td>\n",
       "    </tr>\n",
       "    <tr>\n",
       "      <th>14057563</th>\n",
       "      <td>2017-05-03 16:34:08.270</td>\n",
       "      <td>CC6740</td>\n",
       "      <td>-0.149704</td>\n",
       "      <td>0.194482</td>\n",
       "      <td>0.202393</td>\n",
       "    </tr>\n",
       "    <tr>\n",
       "      <th>14057564</th>\n",
       "      <td>2017-05-03 16:34:08.294</td>\n",
       "      <td>CC6740</td>\n",
       "      <td>-0.107288</td>\n",
       "      <td>0.153548</td>\n",
       "      <td>0.168595</td>\n",
       "    </tr>\n",
       "  </tbody>\n",
       "</table>\n",
       "<p>14057565 rows × 5 columns</p>\n",
       "</div>"
      ],
      "text/plain": [
       "                            time     pid         x         y         z\n",
       "0        2017-05-02 14:04:42.409  SA0297  0.075800  0.027300 -0.010200\n",
       "1        2017-05-02 14:04:42.455  SA0297 -0.035900  0.079400  0.003700\n",
       "2        2017-05-02 14:04:42.500  SA0297 -0.242700 -0.086100 -0.016300\n",
       "3        2017-05-02 14:04:43.945  SA0297 -0.288800  0.051400 -0.014500\n",
       "4        2017-05-02 14:04:43.953  SA0297 -0.041300 -0.018400 -0.010500\n",
       "...                          ...     ...       ...       ...       ...\n",
       "14057560 2017-05-03 16:34:08.196  CC6740 -0.133956  0.124726 -0.010736\n",
       "14057561 2017-05-03 16:34:08.220  CC6740 -0.100764  0.180872  0.046449\n",
       "14057562 2017-05-03 16:34:08.245  CC6740 -0.131853  0.195934  0.181088\n",
       "14057563 2017-05-03 16:34:08.270  CC6740 -0.149704  0.194482  0.202393\n",
       "14057564 2017-05-03 16:34:08.294  CC6740 -0.107288  0.153548  0.168595\n",
       "\n",
       "[14057565 rows x 5 columns]"
      ]
     },
     "execution_count": 27,
     "metadata": {},
     "output_type": "execute_result"
    }
   ],
   "source": [
    "accel_data"
   ]
  },
  {
   "cell_type": "markdown",
   "metadata": {},
   "source": [
    "## Gathering TAC Data"
   ]
  },
  {
   "cell_type": "code",
   "execution_count": null,
   "metadata": {},
   "outputs": [
    {
     "data": {
      "text/plain": [
       "['SA0297',\n",
       " 'PC6771',\n",
       " 'BK7610',\n",
       " 'DC6359',\n",
       " 'MC7070',\n",
       " 'MJ8002',\n",
       " 'BU4707',\n",
       " 'JR8022',\n",
       " 'HV0618',\n",
       " 'SF3079',\n",
       " 'JB3156',\n",
       " 'CC6740',\n",
       " 'DK3500']"
      ]
     },
     "execution_count": 16,
     "metadata": {},
     "output_type": "execute_result"
    }
   ],
   "source": [
    "pids = list(accel_data['pid'].unique())\n",
    "pids"
   ]
  },
  {
   "cell_type": "code",
   "execution_count": null,
   "metadata": {},
   "outputs": [],
   "source": [
    "pid_tac_dfs = []\n",
    "\n",
    "for pid in pids:\n",
    "    pid_tac = pd.read_csv(f\"data/clean_tac/{pid}_clean_TAC.csv\")\n",
    "    pid_tac = pid_tac.rename(columns={\"timestamp\":\"time\"})\n",
    "    pid_tac['time'] = pd.to_datetime(pid_tac['time'], unit='s')\n",
    "    pid_tac['pid'] = pid\n",
    "    pid_tac = pid_tac[['time', 'pid', 'TAC_Reading']]\n",
    "\n",
    "    pid_tac_dfs.append(pid_tac)"
   ]
  },
  {
   "cell_type": "code",
   "execution_count": null,
   "metadata": {},
   "outputs": [],
   "source": [
    "all_tac_df = pd.concat(pid_tac_dfs, axis=0)"
   ]
  },
  {
   "cell_type": "code",
   "execution_count": null,
   "metadata": {},
   "outputs": [],
   "source": [
    "all_tac_df['TAC_class'] = 0\n",
    "all_tac_df.loc[all_tac_df['TAC_Reading'] >= 0.08, 'TAC_class'] = 1"
   ]
  },
  {
   "cell_type": "code",
   "execution_count": null,
   "metadata": {},
   "outputs": [
    {
     "data": {
      "text/html": [
       "<div>\n",
       "<style scoped>\n",
       "    .dataframe tbody tr th:only-of-type {\n",
       "        vertical-align: middle;\n",
       "    }\n",
       "\n",
       "    .dataframe tbody tr th {\n",
       "        vertical-align: top;\n",
       "    }\n",
       "\n",
       "    .dataframe thead th {\n",
       "        text-align: right;\n",
       "    }\n",
       "</style>\n",
       "<table border=\"1\" class=\"dataframe\">\n",
       "  <thead>\n",
       "    <tr style=\"text-align: right;\">\n",
       "      <th></th>\n",
       "      <th>time</th>\n",
       "      <th>pid</th>\n",
       "      <th>TAC_Reading</th>\n",
       "      <th>TAC_class</th>\n",
       "    </tr>\n",
       "  </thead>\n",
       "  <tbody>\n",
       "    <tr>\n",
       "      <th>0</th>\n",
       "      <td>2017-05-02 09:18:43</td>\n",
       "      <td>SA0297</td>\n",
       "      <td>-0.010229</td>\n",
       "      <td>0</td>\n",
       "    </tr>\n",
       "    <tr>\n",
       "      <th>1</th>\n",
       "      <td>2017-05-02 09:49:06</td>\n",
       "      <td>SA0297</td>\n",
       "      <td>-0.002512</td>\n",
       "      <td>0</td>\n",
       "    </tr>\n",
       "    <tr>\n",
       "      <th>2</th>\n",
       "      <td>2017-05-02 09:54:23</td>\n",
       "      <td>SA0297</td>\n",
       "      <td>0.003249</td>\n",
       "      <td>0</td>\n",
       "    </tr>\n",
       "    <tr>\n",
       "      <th>3</th>\n",
       "      <td>2017-05-02 09:59:39</td>\n",
       "      <td>SA0297</td>\n",
       "      <td>0.005404</td>\n",
       "      <td>0</td>\n",
       "    </tr>\n",
       "    <tr>\n",
       "      <th>4</th>\n",
       "      <td>2017-05-02 10:04:55</td>\n",
       "      <td>SA0297</td>\n",
       "      <td>0.003377</td>\n",
       "      <td>0</td>\n",
       "    </tr>\n",
       "    <tr>\n",
       "      <th>...</th>\n",
       "      <td>...</td>\n",
       "      <td>...</td>\n",
       "      <td>...</td>\n",
       "      <td>...</td>\n",
       "    </tr>\n",
       "    <tr>\n",
       "      <th>46</th>\n",
       "      <td>2017-05-03 07:34:28</td>\n",
       "      <td>DK3500</td>\n",
       "      <td>0.011820</td>\n",
       "      <td>0</td>\n",
       "    </tr>\n",
       "    <tr>\n",
       "      <th>47</th>\n",
       "      <td>2017-05-03 08:04:52</td>\n",
       "      <td>DK3500</td>\n",
       "      <td>0.011012</td>\n",
       "      <td>0</td>\n",
       "    </tr>\n",
       "    <tr>\n",
       "      <th>48</th>\n",
       "      <td>2017-05-03 08:35:16</td>\n",
       "      <td>DK3500</td>\n",
       "      <td>0.010660</td>\n",
       "      <td>0</td>\n",
       "    </tr>\n",
       "    <tr>\n",
       "      <th>49</th>\n",
       "      <td>2017-05-03 09:05:38</td>\n",
       "      <td>DK3500</td>\n",
       "      <td>0.011030</td>\n",
       "      <td>0</td>\n",
       "    </tr>\n",
       "    <tr>\n",
       "      <th>50</th>\n",
       "      <td>2017-05-03 09:36:01</td>\n",
       "      <td>DK3500</td>\n",
       "      <td>0.011943</td>\n",
       "      <td>0</td>\n",
       "    </tr>\n",
       "  </tbody>\n",
       "</table>\n",
       "<p>715 rows × 4 columns</p>\n",
       "</div>"
      ],
      "text/plain": [
       "                  time     pid  TAC_Reading  TAC_class\n",
       "0  2017-05-02 09:18:43  SA0297    -0.010229          0\n",
       "1  2017-05-02 09:49:06  SA0297    -0.002512          0\n",
       "2  2017-05-02 09:54:23  SA0297     0.003249          0\n",
       "3  2017-05-02 09:59:39  SA0297     0.005404          0\n",
       "4  2017-05-02 10:04:55  SA0297     0.003377          0\n",
       "..                 ...     ...          ...        ...\n",
       "46 2017-05-03 07:34:28  DK3500     0.011820          0\n",
       "47 2017-05-03 08:04:52  DK3500     0.011012          0\n",
       "48 2017-05-03 08:35:16  DK3500     0.010660          0\n",
       "49 2017-05-03 09:05:38  DK3500     0.011030          0\n",
       "50 2017-05-03 09:36:01  DK3500     0.011943          0\n",
       "\n",
       "[715 rows x 4 columns]"
      ]
     },
     "execution_count": 20,
     "metadata": {},
     "output_type": "execute_result"
    }
   ],
   "source": [
    "all_tac_df"
   ]
  },
  {
   "cell_type": "code",
   "execution_count": null,
   "metadata": {},
   "outputs": [],
   "source": [
    "# all_tac_df.to_parquet(\"all_tac_data.parquet\")"
   ]
  },
  {
   "cell_type": "code",
   "execution_count": null,
   "metadata": {},
   "outputs": [],
   "source": [
    "all_tac_df = pd.read_parquet(\"all_tac_data.parquet\")"
   ]
  },
  {
   "cell_type": "markdown",
   "metadata": {},
   "source": [
    "## Reconciling Feature and Target Data"
   ]
  },
  {
   "cell_type": "code",
   "execution_count": 40,
   "metadata": {},
   "outputs": [],
   "source": [
    "# adding a mergable \"second\" column\n",
    "accel_data['seconds'] = accel_data['time'].dt.floor('s')\n",
    "all_tac_df = all_tac_df.rename(columns={\"time\": \"seconds\"})"
   ]
  },
  {
   "cell_type": "code",
   "execution_count": 42,
   "metadata": {},
   "outputs": [],
   "source": [
    "merged_df = pd.merge(accel_data, all_tac_df, on=['pid', 'seconds'], how=\"left\")"
   ]
  },
  {
   "cell_type": "code",
   "execution_count": 48,
   "metadata": {},
   "outputs": [],
   "source": [
    "merged_df.drop(columns=['seconds', 'TAC_Reading'], inplace=True)"
   ]
  },
  {
   "cell_type": "code",
   "execution_count": 51,
   "metadata": {},
   "outputs": [],
   "source": [
    "# assigning the first reading of each pid to be 0 (sober) before forward filling\n",
    "\n",
    "merged_df['pid_count'] = merged_df.groupby('pid').cumcount()\n",
    "merged_df.loc[merged_df['pid_count'] == 0, 'TAC_class'] = 0\n",
    "merged_df.drop(columns='pid_count', inplace=True)"
   ]
  },
  {
   "cell_type": "code",
   "execution_count": 54,
   "metadata": {},
   "outputs": [],
   "source": [
    "# forward filling the TAC_class field\n",
    "# start sober, sober util intoxicated read, intoxicated until next sober reading\n",
    "\n",
    "merged_df['TAC_class'] = merged_df['TAC_class'].fillna(method='ffill')"
   ]
  },
  {
   "cell_type": "code",
   "execution_count": 55,
   "metadata": {},
   "outputs": [
    {
     "data": {
      "text/html": [
       "<div>\n",
       "<style scoped>\n",
       "    .dataframe tbody tr th:only-of-type {\n",
       "        vertical-align: middle;\n",
       "    }\n",
       "\n",
       "    .dataframe tbody tr th {\n",
       "        vertical-align: top;\n",
       "    }\n",
       "\n",
       "    .dataframe thead th {\n",
       "        text-align: right;\n",
       "    }\n",
       "</style>\n",
       "<table border=\"1\" class=\"dataframe\">\n",
       "  <thead>\n",
       "    <tr style=\"text-align: right;\">\n",
       "      <th></th>\n",
       "      <th>time</th>\n",
       "      <th>pid</th>\n",
       "      <th>x</th>\n",
       "      <th>y</th>\n",
       "      <th>z</th>\n",
       "      <th>TAC_class</th>\n",
       "    </tr>\n",
       "  </thead>\n",
       "  <tbody>\n",
       "    <tr>\n",
       "      <th>0</th>\n",
       "      <td>2017-05-02 14:04:42.409</td>\n",
       "      <td>SA0297</td>\n",
       "      <td>0.075800</td>\n",
       "      <td>0.027300</td>\n",
       "      <td>-0.010200</td>\n",
       "      <td>0.0</td>\n",
       "    </tr>\n",
       "    <tr>\n",
       "      <th>1</th>\n",
       "      <td>2017-05-02 14:04:42.455</td>\n",
       "      <td>SA0297</td>\n",
       "      <td>-0.035900</td>\n",
       "      <td>0.079400</td>\n",
       "      <td>0.003700</td>\n",
       "      <td>0.0</td>\n",
       "    </tr>\n",
       "    <tr>\n",
       "      <th>2</th>\n",
       "      <td>2017-05-02 14:04:42.500</td>\n",
       "      <td>SA0297</td>\n",
       "      <td>-0.242700</td>\n",
       "      <td>-0.086100</td>\n",
       "      <td>-0.016300</td>\n",
       "      <td>0.0</td>\n",
       "    </tr>\n",
       "    <tr>\n",
       "      <th>3</th>\n",
       "      <td>2017-05-02 14:04:43.945</td>\n",
       "      <td>SA0297</td>\n",
       "      <td>-0.288800</td>\n",
       "      <td>0.051400</td>\n",
       "      <td>-0.014500</td>\n",
       "      <td>0.0</td>\n",
       "    </tr>\n",
       "    <tr>\n",
       "      <th>4</th>\n",
       "      <td>2017-05-02 14:04:43.953</td>\n",
       "      <td>SA0297</td>\n",
       "      <td>-0.041300</td>\n",
       "      <td>-0.018400</td>\n",
       "      <td>-0.010500</td>\n",
       "      <td>0.0</td>\n",
       "    </tr>\n",
       "    <tr>\n",
       "      <th>...</th>\n",
       "      <td>...</td>\n",
       "      <td>...</td>\n",
       "      <td>...</td>\n",
       "      <td>...</td>\n",
       "      <td>...</td>\n",
       "      <td>...</td>\n",
       "    </tr>\n",
       "    <tr>\n",
       "      <th>14057560</th>\n",
       "      <td>2017-05-03 16:34:08.196</td>\n",
       "      <td>CC6740</td>\n",
       "      <td>-0.133956</td>\n",
       "      <td>0.124726</td>\n",
       "      <td>-0.010736</td>\n",
       "      <td>0.0</td>\n",
       "    </tr>\n",
       "    <tr>\n",
       "      <th>14057561</th>\n",
       "      <td>2017-05-03 16:34:08.220</td>\n",
       "      <td>CC6740</td>\n",
       "      <td>-0.100764</td>\n",
       "      <td>0.180872</td>\n",
       "      <td>0.046449</td>\n",
       "      <td>0.0</td>\n",
       "    </tr>\n",
       "    <tr>\n",
       "      <th>14057562</th>\n",
       "      <td>2017-05-03 16:34:08.245</td>\n",
       "      <td>CC6740</td>\n",
       "      <td>-0.131853</td>\n",
       "      <td>0.195934</td>\n",
       "      <td>0.181088</td>\n",
       "      <td>0.0</td>\n",
       "    </tr>\n",
       "    <tr>\n",
       "      <th>14057563</th>\n",
       "      <td>2017-05-03 16:34:08.270</td>\n",
       "      <td>CC6740</td>\n",
       "      <td>-0.149704</td>\n",
       "      <td>0.194482</td>\n",
       "      <td>0.202393</td>\n",
       "      <td>0.0</td>\n",
       "    </tr>\n",
       "    <tr>\n",
       "      <th>14057564</th>\n",
       "      <td>2017-05-03 16:34:08.294</td>\n",
       "      <td>CC6740</td>\n",
       "      <td>-0.107288</td>\n",
       "      <td>0.153548</td>\n",
       "      <td>0.168595</td>\n",
       "      <td>0.0</td>\n",
       "    </tr>\n",
       "  </tbody>\n",
       "</table>\n",
       "<p>14057565 rows × 6 columns</p>\n",
       "</div>"
      ],
      "text/plain": [
       "                            time     pid         x         y         z  \\\n",
       "0        2017-05-02 14:04:42.409  SA0297  0.075800  0.027300 -0.010200   \n",
       "1        2017-05-02 14:04:42.455  SA0297 -0.035900  0.079400  0.003700   \n",
       "2        2017-05-02 14:04:42.500  SA0297 -0.242700 -0.086100 -0.016300   \n",
       "3        2017-05-02 14:04:43.945  SA0297 -0.288800  0.051400 -0.014500   \n",
       "4        2017-05-02 14:04:43.953  SA0297 -0.041300 -0.018400 -0.010500   \n",
       "...                          ...     ...       ...       ...       ...   \n",
       "14057560 2017-05-03 16:34:08.196  CC6740 -0.133956  0.124726 -0.010736   \n",
       "14057561 2017-05-03 16:34:08.220  CC6740 -0.100764  0.180872  0.046449   \n",
       "14057562 2017-05-03 16:34:08.245  CC6740 -0.131853  0.195934  0.181088   \n",
       "14057563 2017-05-03 16:34:08.270  CC6740 -0.149704  0.194482  0.202393   \n",
       "14057564 2017-05-03 16:34:08.294  CC6740 -0.107288  0.153548  0.168595   \n",
       "\n",
       "          TAC_class  \n",
       "0               0.0  \n",
       "1               0.0  \n",
       "2               0.0  \n",
       "3               0.0  \n",
       "4               0.0  \n",
       "...             ...  \n",
       "14057560        0.0  \n",
       "14057561        0.0  \n",
       "14057562        0.0  \n",
       "14057563        0.0  \n",
       "14057564        0.0  \n",
       "\n",
       "[14057565 rows x 6 columns]"
      ]
     },
     "execution_count": 55,
     "metadata": {},
     "output_type": "execute_result"
    }
   ],
   "source": [
    "merged_df"
   ]
  },
  {
   "cell_type": "code",
   "execution_count": 60,
   "metadata": {},
   "outputs": [
    {
     "data": {
      "text/plain": [
       "82.53"
      ]
     },
     "execution_count": 60,
     "metadata": {},
     "output_type": "execute_result"
    }
   ],
   "source": [
    "# Percentage of the data representing sober readings\n",
    "round((merged_df['TAC_class'] == 0).sum() / len(merged_df) * 100, 2)"
   ]
  },
  {
   "cell_type": "code",
   "execution_count": null,
   "metadata": {},
   "outputs": [],
   "source": [
    "# merged_df.to_parquet(\"merged_data.parquet\")"
   ]
  },
  {
   "cell_type": "code",
   "execution_count": 2,
   "metadata": {},
   "outputs": [
    {
     "data": {
      "text/html": [
       "<div>\n",
       "<style scoped>\n",
       "    .dataframe tbody tr th:only-of-type {\n",
       "        vertical-align: middle;\n",
       "    }\n",
       "\n",
       "    .dataframe tbody tr th {\n",
       "        vertical-align: top;\n",
       "    }\n",
       "\n",
       "    .dataframe thead th {\n",
       "        text-align: right;\n",
       "    }\n",
       "</style>\n",
       "<table border=\"1\" class=\"dataframe\">\n",
       "  <thead>\n",
       "    <tr style=\"text-align: right;\">\n",
       "      <th></th>\n",
       "      <th>time</th>\n",
       "      <th>pid</th>\n",
       "      <th>x</th>\n",
       "      <th>y</th>\n",
       "      <th>z</th>\n",
       "      <th>TAC_class</th>\n",
       "    </tr>\n",
       "  </thead>\n",
       "  <tbody>\n",
       "    <tr>\n",
       "      <th>0</th>\n",
       "      <td>2017-05-02 14:04:42.409</td>\n",
       "      <td>SA0297</td>\n",
       "      <td>0.075800</td>\n",
       "      <td>0.027300</td>\n",
       "      <td>-0.010200</td>\n",
       "      <td>0.0</td>\n",
       "    </tr>\n",
       "    <tr>\n",
       "      <th>1</th>\n",
       "      <td>2017-05-02 14:04:42.455</td>\n",
       "      <td>SA0297</td>\n",
       "      <td>-0.035900</td>\n",
       "      <td>0.079400</td>\n",
       "      <td>0.003700</td>\n",
       "      <td>0.0</td>\n",
       "    </tr>\n",
       "    <tr>\n",
       "      <th>2</th>\n",
       "      <td>2017-05-02 14:04:42.500</td>\n",
       "      <td>SA0297</td>\n",
       "      <td>-0.242700</td>\n",
       "      <td>-0.086100</td>\n",
       "      <td>-0.016300</td>\n",
       "      <td>0.0</td>\n",
       "    </tr>\n",
       "    <tr>\n",
       "      <th>3</th>\n",
       "      <td>2017-05-02 14:04:43.945</td>\n",
       "      <td>SA0297</td>\n",
       "      <td>-0.288800</td>\n",
       "      <td>0.051400</td>\n",
       "      <td>-0.014500</td>\n",
       "      <td>0.0</td>\n",
       "    </tr>\n",
       "    <tr>\n",
       "      <th>4</th>\n",
       "      <td>2017-05-02 14:04:43.953</td>\n",
       "      <td>SA0297</td>\n",
       "      <td>-0.041300</td>\n",
       "      <td>-0.018400</td>\n",
       "      <td>-0.010500</td>\n",
       "      <td>0.0</td>\n",
       "    </tr>\n",
       "    <tr>\n",
       "      <th>...</th>\n",
       "      <td>...</td>\n",
       "      <td>...</td>\n",
       "      <td>...</td>\n",
       "      <td>...</td>\n",
       "      <td>...</td>\n",
       "      <td>...</td>\n",
       "    </tr>\n",
       "    <tr>\n",
       "      <th>14057560</th>\n",
       "      <td>2017-05-03 16:34:08.196</td>\n",
       "      <td>CC6740</td>\n",
       "      <td>-0.133956</td>\n",
       "      <td>0.124726</td>\n",
       "      <td>-0.010736</td>\n",
       "      <td>0.0</td>\n",
       "    </tr>\n",
       "    <tr>\n",
       "      <th>14057561</th>\n",
       "      <td>2017-05-03 16:34:08.220</td>\n",
       "      <td>CC6740</td>\n",
       "      <td>-0.100764</td>\n",
       "      <td>0.180872</td>\n",
       "      <td>0.046449</td>\n",
       "      <td>0.0</td>\n",
       "    </tr>\n",
       "    <tr>\n",
       "      <th>14057562</th>\n",
       "      <td>2017-05-03 16:34:08.245</td>\n",
       "      <td>CC6740</td>\n",
       "      <td>-0.131853</td>\n",
       "      <td>0.195934</td>\n",
       "      <td>0.181088</td>\n",
       "      <td>0.0</td>\n",
       "    </tr>\n",
       "    <tr>\n",
       "      <th>14057563</th>\n",
       "      <td>2017-05-03 16:34:08.270</td>\n",
       "      <td>CC6740</td>\n",
       "      <td>-0.149704</td>\n",
       "      <td>0.194482</td>\n",
       "      <td>0.202393</td>\n",
       "      <td>0.0</td>\n",
       "    </tr>\n",
       "    <tr>\n",
       "      <th>14057564</th>\n",
       "      <td>2017-05-03 16:34:08.294</td>\n",
       "      <td>CC6740</td>\n",
       "      <td>-0.107288</td>\n",
       "      <td>0.153548</td>\n",
       "      <td>0.168595</td>\n",
       "      <td>0.0</td>\n",
       "    </tr>\n",
       "  </tbody>\n",
       "</table>\n",
       "<p>14057565 rows × 6 columns</p>\n",
       "</div>"
      ],
      "text/plain": [
       "                            time     pid         x         y         z  \\\n",
       "0        2017-05-02 14:04:42.409  SA0297  0.075800  0.027300 -0.010200   \n",
       "1        2017-05-02 14:04:42.455  SA0297 -0.035900  0.079400  0.003700   \n",
       "2        2017-05-02 14:04:42.500  SA0297 -0.242700 -0.086100 -0.016300   \n",
       "3        2017-05-02 14:04:43.945  SA0297 -0.288800  0.051400 -0.014500   \n",
       "4        2017-05-02 14:04:43.953  SA0297 -0.041300 -0.018400 -0.010500   \n",
       "...                          ...     ...       ...       ...       ...   \n",
       "14057560 2017-05-03 16:34:08.196  CC6740 -0.133956  0.124726 -0.010736   \n",
       "14057561 2017-05-03 16:34:08.220  CC6740 -0.100764  0.180872  0.046449   \n",
       "14057562 2017-05-03 16:34:08.245  CC6740 -0.131853  0.195934  0.181088   \n",
       "14057563 2017-05-03 16:34:08.270  CC6740 -0.149704  0.194482  0.202393   \n",
       "14057564 2017-05-03 16:34:08.294  CC6740 -0.107288  0.153548  0.168595   \n",
       "\n",
       "          TAC_class  \n",
       "0               0.0  \n",
       "1               0.0  \n",
       "2               0.0  \n",
       "3               0.0  \n",
       "4               0.0  \n",
       "...             ...  \n",
       "14057560        0.0  \n",
       "14057561        0.0  \n",
       "14057562        0.0  \n",
       "14057563        0.0  \n",
       "14057564        0.0  \n",
       "\n",
       "[14057565 rows x 6 columns]"
      ]
     },
     "execution_count": 2,
     "metadata": {},
     "output_type": "execute_result"
    }
   ],
   "source": [
    "merged_df = pd.read_parquet(\"merged_data.parquet\")\n",
    "\n",
    "merged_df"
   ]
  },
  {
   "cell_type": "markdown",
   "metadata": {},
   "source": [
    "## Upsampling Accelerometer Data"
   ]
  },
  {
   "cell_type": "code",
   "execution_count": 3,
   "metadata": {},
   "outputs": [],
   "source": [
    "def upsample_data_250hz(df):\n",
    "\n",
    "    upsampled_dfs = {}\n",
    "    pids = list(df['pid'].unique())\n",
    "\n",
    "    for pid in tqdm(pids):\n",
    "        pid_df = df[df['pid'] == pid]\n",
    "\n",
    "        # there are sometimes multiple instances of the same milisecond.\n",
    "        pid_df = pid_df.drop_duplicates(\"time\")\n",
    "        \n",
    "        pid_df.set_index('time', inplace=True)\n",
    "        \n",
    "        upsampled_df = pid_df.resample('4ms').ffill()\n",
    "        upsampled_df['pid'] = pid\n",
    "        upsampled_df.reset_index(inplace=True)\n",
    "        upsampled_df = upsampled_df.dropna()\n",
    "\n",
    "        print(f\"{pid} dataframe length - {len(upsampled_df)}\")\n",
    "        upsampled_dfs[pid] = upsampled_df\n",
    "\n",
    "    return upsampled_dfs\n"
   ]
  },
  {
   "cell_type": "code",
   "execution_count": 4,
   "metadata": {},
   "outputs": [
    {
     "name": "stderr",
     "output_type": "stream",
     "text": [
      "  8%|▊         | 1/13 [00:05<01:04,  5.40s/it]"
     ]
    },
    {
     "name": "stdout",
     "output_type": "stream",
     "text": [
      "SA0297 dataframe length - 22713342\n"
     ]
    },
    {
     "name": "stderr",
     "output_type": "stream",
     "text": [
      " 15%|█▌        | 2/13 [00:10<00:59,  5.41s/it]"
     ]
    },
    {
     "name": "stdout",
     "output_type": "stream",
     "text": [
      "PC6771 dataframe length - 21549991\n"
     ]
    },
    {
     "name": "stderr",
     "output_type": "stream",
     "text": [
      " 23%|██▎       | 3/13 [00:13<00:45,  4.53s/it]"
     ]
    },
    {
     "name": "stdout",
     "output_type": "stream",
     "text": [
      "BK7610 dataframe length - 7974997\n"
     ]
    },
    {
     "name": "stderr",
     "output_type": "stream",
     "text": [
      " 31%|███       | 4/13 [00:15<00:35,  3.92s/it]"
     ]
    },
    {
     "name": "stdout",
     "output_type": "stream",
     "text": [
      "DC6359 dataframe length - 8144033\n"
     ]
    },
    {
     "name": "stderr",
     "output_type": "stream",
     "text": [
      " 38%|███▊      | 5/13 [00:18<00:29,  3.68s/it]"
     ]
    },
    {
     "name": "stdout",
     "output_type": "stream",
     "text": [
      "MC7070 dataframe length - 11221902\n"
     ]
    },
    {
     "name": "stderr",
     "output_type": "stream",
     "text": [
      " 46%|████▌     | 6/13 [00:22<00:24,  3.57s/it]"
     ]
    },
    {
     "name": "stdout",
     "output_type": "stream",
     "text": [
      "MJ8002 dataframe length - 12000599\n"
     ]
    },
    {
     "name": "stderr",
     "output_type": "stream",
     "text": [
      " 54%|█████▍    | 7/13 [00:23<00:17,  2.99s/it]"
     ]
    },
    {
     "name": "stdout",
     "output_type": "stream",
     "text": [
      "BU4707 dataframe length - 5104330\n"
     ]
    },
    {
     "name": "stderr",
     "output_type": "stream",
     "text": [
      " 62%|██████▏   | 8/13 [00:27<00:15,  3.11s/it]"
     ]
    },
    {
     "name": "stdout",
     "output_type": "stream",
     "text": [
      "JR8022 dataframe length - 8524642\n"
     ]
    },
    {
     "name": "stderr",
     "output_type": "stream",
     "text": [
      " 69%|██████▉   | 9/13 [00:39<00:22,  5.71s/it]"
     ]
    },
    {
     "name": "stdout",
     "output_type": "stream",
     "text": [
      "HV0618 dataframe length - 21581574\n"
     ]
    },
    {
     "name": "stderr",
     "output_type": "stream",
     "text": [
      " 77%|███████▋  | 10/13 [00:41<00:14,  4.78s/it]"
     ]
    },
    {
     "name": "stdout",
     "output_type": "stream",
     "text": [
      "SF3079 dataframe length - 12907196\n"
     ]
    },
    {
     "name": "stderr",
     "output_type": "stream",
     "text": [
      " 85%|████████▍ | 11/13 [00:44<00:08,  4.09s/it]"
     ]
    },
    {
     "name": "stdout",
     "output_type": "stream",
     "text": [
      "JB3156 dataframe length - 11085874\n"
     ]
    },
    {
     "name": "stderr",
     "output_type": "stream",
     "text": [
      " 92%|█████████▏| 12/13 [00:54<00:05,  5.89s/it]"
     ]
    },
    {
     "name": "stdout",
     "output_type": "stream",
     "text": [
      "CC6740 dataframe length - 22167024\n"
     ]
    },
    {
     "name": "stderr",
     "output_type": "stream",
     "text": [
      "100%|██████████| 13/13 [00:59<00:00,  4.61s/it]"
     ]
    },
    {
     "name": "stdout",
     "output_type": "stream",
     "text": [
      "DK3500 dataframe length - 16293962\n"
     ]
    },
    {
     "name": "stderr",
     "output_type": "stream",
     "text": [
      "\n"
     ]
    }
   ],
   "source": [
    "df_list_250hz = upsample_data_250hz(merged_df)"
   ]
  },
  {
   "cell_type": "code",
   "execution_count": 7,
   "metadata": {},
   "outputs": [
    {
     "data": {
      "text/html": [
       "<div>\n",
       "<style scoped>\n",
       "    .dataframe tbody tr th:only-of-type {\n",
       "        vertical-align: middle;\n",
       "    }\n",
       "\n",
       "    .dataframe tbody tr th {\n",
       "        vertical-align: top;\n",
       "    }\n",
       "\n",
       "    .dataframe thead th {\n",
       "        text-align: right;\n",
       "    }\n",
       "</style>\n",
       "<table border=\"1\" class=\"dataframe\">\n",
       "  <thead>\n",
       "    <tr style=\"text-align: right;\">\n",
       "      <th></th>\n",
       "      <th>time</th>\n",
       "      <th>pid</th>\n",
       "      <th>x</th>\n",
       "      <th>y</th>\n",
       "      <th>z</th>\n",
       "      <th>TAC_class</th>\n",
       "    </tr>\n",
       "  </thead>\n",
       "  <tbody>\n",
       "    <tr>\n",
       "      <th>0</th>\n",
       "      <td>2017-05-02 15:03:24.780</td>\n",
       "      <td>BU4707</td>\n",
       "      <td>-0.0094</td>\n",
       "      <td>0.0147</td>\n",
       "      <td>0.0186</td>\n",
       "      <td>0.0</td>\n",
       "    </tr>\n",
       "    <tr>\n",
       "      <th>1</th>\n",
       "      <td>2017-05-02 15:03:24.784</td>\n",
       "      <td>BU4707</td>\n",
       "      <td>-0.0094</td>\n",
       "      <td>0.0147</td>\n",
       "      <td>0.0186</td>\n",
       "      <td>0.0</td>\n",
       "    </tr>\n",
       "    <tr>\n",
       "      <th>2</th>\n",
       "      <td>2017-05-02 15:03:24.788</td>\n",
       "      <td>BU4707</td>\n",
       "      <td>-0.0094</td>\n",
       "      <td>0.0147</td>\n",
       "      <td>0.0186</td>\n",
       "      <td>0.0</td>\n",
       "    </tr>\n",
       "    <tr>\n",
       "      <th>3</th>\n",
       "      <td>2017-05-02 15:03:24.792</td>\n",
       "      <td>BU4707</td>\n",
       "      <td>-0.0094</td>\n",
       "      <td>0.0147</td>\n",
       "      <td>0.0186</td>\n",
       "      <td>0.0</td>\n",
       "    </tr>\n",
       "    <tr>\n",
       "      <th>4</th>\n",
       "      <td>2017-05-02 15:03:24.796</td>\n",
       "      <td>BU4707</td>\n",
       "      <td>-0.0094</td>\n",
       "      <td>0.0147</td>\n",
       "      <td>0.0186</td>\n",
       "      <td>0.0</td>\n",
       "    </tr>\n",
       "    <tr>\n",
       "      <th>...</th>\n",
       "      <td>...</td>\n",
       "      <td>...</td>\n",
       "      <td>...</td>\n",
       "      <td>...</td>\n",
       "      <td>...</td>\n",
       "      <td>...</td>\n",
       "    </tr>\n",
       "    <tr>\n",
       "      <th>5104325</th>\n",
       "      <td>2017-05-02 20:43:42.080</td>\n",
       "      <td>BU4707</td>\n",
       "      <td>-0.0097</td>\n",
       "      <td>0.0111</td>\n",
       "      <td>-0.0592</td>\n",
       "      <td>1.0</td>\n",
       "    </tr>\n",
       "    <tr>\n",
       "      <th>5104326</th>\n",
       "      <td>2017-05-02 20:43:42.084</td>\n",
       "      <td>BU4707</td>\n",
       "      <td>-0.0097</td>\n",
       "      <td>0.0111</td>\n",
       "      <td>-0.0592</td>\n",
       "      <td>1.0</td>\n",
       "    </tr>\n",
       "    <tr>\n",
       "      <th>5104327</th>\n",
       "      <td>2017-05-02 20:43:42.088</td>\n",
       "      <td>BU4707</td>\n",
       "      <td>-0.0097</td>\n",
       "      <td>0.0111</td>\n",
       "      <td>-0.0592</td>\n",
       "      <td>1.0</td>\n",
       "    </tr>\n",
       "    <tr>\n",
       "      <th>5104328</th>\n",
       "      <td>2017-05-02 20:43:42.092</td>\n",
       "      <td>BU4707</td>\n",
       "      <td>-0.0097</td>\n",
       "      <td>0.0111</td>\n",
       "      <td>-0.0592</td>\n",
       "      <td>1.0</td>\n",
       "    </tr>\n",
       "    <tr>\n",
       "      <th>5104329</th>\n",
       "      <td>2017-05-02 20:43:42.096</td>\n",
       "      <td>BU4707</td>\n",
       "      <td>-0.0097</td>\n",
       "      <td>0.0111</td>\n",
       "      <td>-0.0592</td>\n",
       "      <td>1.0</td>\n",
       "    </tr>\n",
       "  </tbody>\n",
       "</table>\n",
       "<p>5104330 rows × 6 columns</p>\n",
       "</div>"
      ],
      "text/plain": [
       "                           time     pid       x       y       z  TAC_class\n",
       "0       2017-05-02 15:03:24.780  BU4707 -0.0094  0.0147  0.0186        0.0\n",
       "1       2017-05-02 15:03:24.784  BU4707 -0.0094  0.0147  0.0186        0.0\n",
       "2       2017-05-02 15:03:24.788  BU4707 -0.0094  0.0147  0.0186        0.0\n",
       "3       2017-05-02 15:03:24.792  BU4707 -0.0094  0.0147  0.0186        0.0\n",
       "4       2017-05-02 15:03:24.796  BU4707 -0.0094  0.0147  0.0186        0.0\n",
       "...                         ...     ...     ...     ...     ...        ...\n",
       "5104325 2017-05-02 20:43:42.080  BU4707 -0.0097  0.0111 -0.0592        1.0\n",
       "5104326 2017-05-02 20:43:42.084  BU4707 -0.0097  0.0111 -0.0592        1.0\n",
       "5104327 2017-05-02 20:43:42.088  BU4707 -0.0097  0.0111 -0.0592        1.0\n",
       "5104328 2017-05-02 20:43:42.092  BU4707 -0.0097  0.0111 -0.0592        1.0\n",
       "5104329 2017-05-02 20:43:42.096  BU4707 -0.0097  0.0111 -0.0592        1.0\n",
       "\n",
       "[5104330 rows x 6 columns]"
      ]
     },
     "execution_count": 7,
     "metadata": {},
     "output_type": "execute_result"
    }
   ],
   "source": [
    "df_list_250hz['BU4707']"
   ]
  },
  {
   "cell_type": "code",
   "execution_count": null,
   "metadata": {},
   "outputs": [],
   "source": [
    "for key in df_list_250hz.keys():\n",
    "    df_list_250hz[key].to_parquet(f\"{key}_250hz.parquet\")"
   ]
  },
  {
   "cell_type": "code",
   "execution_count": null,
   "metadata": {},
   "outputs": [],
   "source": []
  }
 ],
 "metadata": {
  "kernelspec": {
   "display_name": "Python 3",
   "language": "python",
   "name": "python3"
  },
  "language_info": {
   "codemirror_mode": {
    "name": "ipython",
    "version": 3
   },
   "file_extension": ".py",
   "mimetype": "text/x-python",
   "name": "python",
   "nbconvert_exporter": "python",
   "pygments_lexer": "ipython3",
   "version": "3.10.12"
  }
 },
 "nbformat": 4,
 "nbformat_minor": 2
}
