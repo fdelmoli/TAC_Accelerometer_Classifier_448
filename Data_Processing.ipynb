{
 "cells": [
  {
   "cell_type": "markdown",
   "metadata": {},
   "source": [
    "## Detecting Heavy Drinking Data Preprocessing"
   ]
  },
  {
   "cell_type": "code",
   "execution_count": 2,
   "metadata": {},
   "outputs": [],
   "source": [
    "import numpy as np\n",
    "import pandas as pd\n",
    "import matplotlib.pyplot as plt\n",
    "\n",
    "from tqdm import tqdm"
   ]
  },
  {
   "cell_type": "markdown",
   "metadata": {},
   "source": [
    "## Gathering Accelerometer Data"
   ]
  },
  {
   "cell_type": "code",
   "execution_count": 3,
   "metadata": {},
   "outputs": [],
   "source": [
    "accel_data = pd.read_parquet(\"all_accelerometer_data.parquet\")"
   ]
  },
  {
   "cell_type": "code",
   "execution_count": 4,
   "metadata": {},
   "outputs": [
    {
     "data": {
      "text/html": [
       "<div>\n",
       "<style scoped>\n",
       "    .dataframe tbody tr th:only-of-type {\n",
       "        vertical-align: middle;\n",
       "    }\n",
       "\n",
       "    .dataframe tbody tr th {\n",
       "        vertical-align: top;\n",
       "    }\n",
       "\n",
       "    .dataframe thead th {\n",
       "        text-align: right;\n",
       "    }\n",
       "</style>\n",
       "<table border=\"1\" class=\"dataframe\">\n",
       "  <thead>\n",
       "    <tr style=\"text-align: right;\">\n",
       "      <th></th>\n",
       "      <th>time</th>\n",
       "      <th>pid</th>\n",
       "      <th>x</th>\n",
       "      <th>y</th>\n",
       "      <th>z</th>\n",
       "    </tr>\n",
       "  </thead>\n",
       "  <tbody>\n",
       "    <tr>\n",
       "      <th>0</th>\n",
       "      <td>2017-05-02 14:04:42.409</td>\n",
       "      <td>SA0297</td>\n",
       "      <td>0.075800</td>\n",
       "      <td>0.027300</td>\n",
       "      <td>-0.010200</td>\n",
       "    </tr>\n",
       "    <tr>\n",
       "      <th>1</th>\n",
       "      <td>2017-05-02 14:04:42.455</td>\n",
       "      <td>SA0297</td>\n",
       "      <td>-0.035900</td>\n",
       "      <td>0.079400</td>\n",
       "      <td>0.003700</td>\n",
       "    </tr>\n",
       "    <tr>\n",
       "      <th>2</th>\n",
       "      <td>2017-05-02 14:04:42.500</td>\n",
       "      <td>SA0297</td>\n",
       "      <td>-0.242700</td>\n",
       "      <td>-0.086100</td>\n",
       "      <td>-0.016300</td>\n",
       "    </tr>\n",
       "    <tr>\n",
       "      <th>3</th>\n",
       "      <td>2017-05-02 14:04:43.945</td>\n",
       "      <td>SA0297</td>\n",
       "      <td>-0.288800</td>\n",
       "      <td>0.051400</td>\n",
       "      <td>-0.014500</td>\n",
       "    </tr>\n",
       "    <tr>\n",
       "      <th>4</th>\n",
       "      <td>2017-05-02 14:04:43.953</td>\n",
       "      <td>SA0297</td>\n",
       "      <td>-0.041300</td>\n",
       "      <td>-0.018400</td>\n",
       "      <td>-0.010500</td>\n",
       "    </tr>\n",
       "    <tr>\n",
       "      <th>...</th>\n",
       "      <td>...</td>\n",
       "      <td>...</td>\n",
       "      <td>...</td>\n",
       "      <td>...</td>\n",
       "      <td>...</td>\n",
       "    </tr>\n",
       "    <tr>\n",
       "      <th>14057560</th>\n",
       "      <td>2017-05-03 16:34:08.196</td>\n",
       "      <td>CC6740</td>\n",
       "      <td>-0.133956</td>\n",
       "      <td>0.124726</td>\n",
       "      <td>-0.010736</td>\n",
       "    </tr>\n",
       "    <tr>\n",
       "      <th>14057561</th>\n",
       "      <td>2017-05-03 16:34:08.220</td>\n",
       "      <td>CC6740</td>\n",
       "      <td>-0.100764</td>\n",
       "      <td>0.180872</td>\n",
       "      <td>0.046449</td>\n",
       "    </tr>\n",
       "    <tr>\n",
       "      <th>14057562</th>\n",
       "      <td>2017-05-03 16:34:08.245</td>\n",
       "      <td>CC6740</td>\n",
       "      <td>-0.131853</td>\n",
       "      <td>0.195934</td>\n",
       "      <td>0.181088</td>\n",
       "    </tr>\n",
       "    <tr>\n",
       "      <th>14057563</th>\n",
       "      <td>2017-05-03 16:34:08.270</td>\n",
       "      <td>CC6740</td>\n",
       "      <td>-0.149704</td>\n",
       "      <td>0.194482</td>\n",
       "      <td>0.202393</td>\n",
       "    </tr>\n",
       "    <tr>\n",
       "      <th>14057564</th>\n",
       "      <td>2017-05-03 16:34:08.294</td>\n",
       "      <td>CC6740</td>\n",
       "      <td>-0.107288</td>\n",
       "      <td>0.153548</td>\n",
       "      <td>0.168595</td>\n",
       "    </tr>\n",
       "  </tbody>\n",
       "</table>\n",
       "<p>14057565 rows × 5 columns</p>\n",
       "</div>"
      ],
      "text/plain": [
       "                            time     pid         x         y         z\n",
       "0        2017-05-02 14:04:42.409  SA0297  0.075800  0.027300 -0.010200\n",
       "1        2017-05-02 14:04:42.455  SA0297 -0.035900  0.079400  0.003700\n",
       "2        2017-05-02 14:04:42.500  SA0297 -0.242700 -0.086100 -0.016300\n",
       "3        2017-05-02 14:04:43.945  SA0297 -0.288800  0.051400 -0.014500\n",
       "4        2017-05-02 14:04:43.953  SA0297 -0.041300 -0.018400 -0.010500\n",
       "...                          ...     ...       ...       ...       ...\n",
       "14057560 2017-05-03 16:34:08.196  CC6740 -0.133956  0.124726 -0.010736\n",
       "14057561 2017-05-03 16:34:08.220  CC6740 -0.100764  0.180872  0.046449\n",
       "14057562 2017-05-03 16:34:08.245  CC6740 -0.131853  0.195934  0.181088\n",
       "14057563 2017-05-03 16:34:08.270  CC6740 -0.149704  0.194482  0.202393\n",
       "14057564 2017-05-03 16:34:08.294  CC6740 -0.107288  0.153548  0.168595\n",
       "\n",
       "[14057565 rows x 5 columns]"
      ]
     },
     "execution_count": 4,
     "metadata": {},
     "output_type": "execute_result"
    }
   ],
   "source": [
    "\n",
    "accel_data = accel_data[2:].reset_index(drop=True)\n",
    "accel_data['time'] = pd.to_datetime(accel_data['time'], unit='ms')\n",
    "year_2017 = pd.to_datetime('2017')\n",
    "accel_data = accel_data.loc[accel_data['time'] > year_2017]\n",
    "accel_data"
   ]
  },
  {
   "cell_type": "markdown",
   "metadata": {},
   "source": [
    "## Gathering TAC Data"
   ]
  },
  {
   "cell_type": "code",
   "execution_count": 5,
   "metadata": {},
   "outputs": [
    {
     "data": {
      "text/plain": [
       "['SA0297',\n",
       " 'PC6771',\n",
       " 'BK7610',\n",
       " 'DC6359',\n",
       " 'MC7070',\n",
       " 'MJ8002',\n",
       " 'BU4707',\n",
       " 'JR8022',\n",
       " 'HV0618',\n",
       " 'SF3079',\n",
       " 'JB3156',\n",
       " 'CC6740',\n",
       " 'DK3500']"
      ]
     },
     "execution_count": 5,
     "metadata": {},
     "output_type": "execute_result"
    }
   ],
   "source": [
    "pids = list(accel_data['pid'].unique())\n",
    "pids"
   ]
  },
  {
   "cell_type": "code",
   "execution_count": 6,
   "metadata": {},
   "outputs": [],
   "source": [
    "pid_tac_dfs = []\n",
    "\n",
    "for pid in pids:\n",
    "    pid_tac = pd.read_csv(f\"data/clean_tac/{pid}_clean_TAC.csv\")\n",
    "    pid_tac = pid_tac.rename(columns={\"timestamp\":\"time\"})\n",
    "    pid_tac['time'] = pd.to_datetime(pid_tac['time'], unit='s')\n",
    "    pid_tac['pid'] = pid\n",
    "    pid_tac = pid_tac[['time', 'pid', 'TAC_Reading']]\n",
    "\n",
    "    pid_tac_dfs.append(pid_tac)"
   ]
  },
  {
   "cell_type": "code",
   "execution_count": 7,
   "metadata": {},
   "outputs": [],
   "source": [
    "all_tac_df = pd.concat(pid_tac_dfs, axis=0)"
   ]
  },
  {
   "cell_type": "code",
   "execution_count": 8,
   "metadata": {},
   "outputs": [],
   "source": [
    "all_tac_df['TAC_class'] = 0\n",
    "all_tac_df.loc[all_tac_df['TAC_Reading'] >= 0.08, 'TAC_class'] = 1"
   ]
  },
  {
   "cell_type": "code",
   "execution_count": 9,
   "metadata": {},
   "outputs": [
    {
     "data": {
      "text/html": [
       "<div>\n",
       "<style scoped>\n",
       "    .dataframe tbody tr th:only-of-type {\n",
       "        vertical-align: middle;\n",
       "    }\n",
       "\n",
       "    .dataframe tbody tr th {\n",
       "        vertical-align: top;\n",
       "    }\n",
       "\n",
       "    .dataframe thead th {\n",
       "        text-align: right;\n",
       "    }\n",
       "</style>\n",
       "<table border=\"1\" class=\"dataframe\">\n",
       "  <thead>\n",
       "    <tr style=\"text-align: right;\">\n",
       "      <th></th>\n",
       "      <th>time</th>\n",
       "      <th>pid</th>\n",
       "      <th>TAC_Reading</th>\n",
       "      <th>TAC_class</th>\n",
       "    </tr>\n",
       "  </thead>\n",
       "  <tbody>\n",
       "    <tr>\n",
       "      <th>0</th>\n",
       "      <td>2017-05-02 09:18:43</td>\n",
       "      <td>SA0297</td>\n",
       "      <td>-0.010229</td>\n",
       "      <td>0</td>\n",
       "    </tr>\n",
       "    <tr>\n",
       "      <th>1</th>\n",
       "      <td>2017-05-02 09:49:06</td>\n",
       "      <td>SA0297</td>\n",
       "      <td>-0.002512</td>\n",
       "      <td>0</td>\n",
       "    </tr>\n",
       "    <tr>\n",
       "      <th>2</th>\n",
       "      <td>2017-05-02 09:54:23</td>\n",
       "      <td>SA0297</td>\n",
       "      <td>0.003249</td>\n",
       "      <td>0</td>\n",
       "    </tr>\n",
       "    <tr>\n",
       "      <th>3</th>\n",
       "      <td>2017-05-02 09:59:39</td>\n",
       "      <td>SA0297</td>\n",
       "      <td>0.005404</td>\n",
       "      <td>0</td>\n",
       "    </tr>\n",
       "    <tr>\n",
       "      <th>4</th>\n",
       "      <td>2017-05-02 10:04:55</td>\n",
       "      <td>SA0297</td>\n",
       "      <td>0.003377</td>\n",
       "      <td>0</td>\n",
       "    </tr>\n",
       "    <tr>\n",
       "      <th>...</th>\n",
       "      <td>...</td>\n",
       "      <td>...</td>\n",
       "      <td>...</td>\n",
       "      <td>...</td>\n",
       "    </tr>\n",
       "    <tr>\n",
       "      <th>46</th>\n",
       "      <td>2017-05-03 07:34:28</td>\n",
       "      <td>DK3500</td>\n",
       "      <td>0.011820</td>\n",
       "      <td>0</td>\n",
       "    </tr>\n",
       "    <tr>\n",
       "      <th>47</th>\n",
       "      <td>2017-05-03 08:04:52</td>\n",
       "      <td>DK3500</td>\n",
       "      <td>0.011012</td>\n",
       "      <td>0</td>\n",
       "    </tr>\n",
       "    <tr>\n",
       "      <th>48</th>\n",
       "      <td>2017-05-03 08:35:16</td>\n",
       "      <td>DK3500</td>\n",
       "      <td>0.010660</td>\n",
       "      <td>0</td>\n",
       "    </tr>\n",
       "    <tr>\n",
       "      <th>49</th>\n",
       "      <td>2017-05-03 09:05:38</td>\n",
       "      <td>DK3500</td>\n",
       "      <td>0.011030</td>\n",
       "      <td>0</td>\n",
       "    </tr>\n",
       "    <tr>\n",
       "      <th>50</th>\n",
       "      <td>2017-05-03 09:36:01</td>\n",
       "      <td>DK3500</td>\n",
       "      <td>0.011943</td>\n",
       "      <td>0</td>\n",
       "    </tr>\n",
       "  </tbody>\n",
       "</table>\n",
       "<p>715 rows × 4 columns</p>\n",
       "</div>"
      ],
      "text/plain": [
       "                  time     pid  TAC_Reading  TAC_class\n",
       "0  2017-05-02 09:18:43  SA0297    -0.010229          0\n",
       "1  2017-05-02 09:49:06  SA0297    -0.002512          0\n",
       "2  2017-05-02 09:54:23  SA0297     0.003249          0\n",
       "3  2017-05-02 09:59:39  SA0297     0.005404          0\n",
       "4  2017-05-02 10:04:55  SA0297     0.003377          0\n",
       "..                 ...     ...          ...        ...\n",
       "46 2017-05-03 07:34:28  DK3500     0.011820          0\n",
       "47 2017-05-03 08:04:52  DK3500     0.011012          0\n",
       "48 2017-05-03 08:35:16  DK3500     0.010660          0\n",
       "49 2017-05-03 09:05:38  DK3500     0.011030          0\n",
       "50 2017-05-03 09:36:01  DK3500     0.011943          0\n",
       "\n",
       "[715 rows x 4 columns]"
      ]
     },
     "execution_count": 9,
     "metadata": {},
     "output_type": "execute_result"
    }
   ],
   "source": [
    "all_tac_df"
   ]
  },
  {
   "cell_type": "code",
   "execution_count": 26,
   "metadata": {},
   "outputs": [],
   "source": [
    "# all_tac_df.to_parquet(\"all_tac_data.parquet\")"
   ]
  },
  {
   "cell_type": "code",
   "execution_count": 10,
   "metadata": {},
   "outputs": [],
   "source": [
    "all_tac_df = pd.read_parquet(\"all_tac_data.parquet\")"
   ]
  },
  {
   "cell_type": "markdown",
   "metadata": {},
   "source": [
    "## Reconciling Feature and Target Data"
   ]
  },
  {
   "cell_type": "code",
   "execution_count": 12,
   "metadata": {},
   "outputs": [],
   "source": [
    "# adding a mergable \"second\" column\n",
    "accel_data['seconds'] = accel_data['time'].dt.floor('s')\n",
    "all_tac_df = all_tac_df.rename(columns={\"time\": \"seconds\"})"
   ]
  },
  {
   "cell_type": "code",
   "execution_count": 13,
   "metadata": {},
   "outputs": [],
   "source": [
    "merged_df = pd.merge(accel_data, all_tac_df, on=['pid', 'seconds'], how=\"left\")"
   ]
  },
  {
   "cell_type": "code",
   "execution_count": 14,
   "metadata": {},
   "outputs": [],
   "source": [
    "merged_df.drop(columns=['seconds', 'TAC_Reading'], inplace=True)"
   ]
  },
  {
   "cell_type": "code",
   "execution_count": 15,
   "metadata": {},
   "outputs": [],
   "source": [
    "# assigning the first reading of each pid to be 0 (sober) before forward filling\n",
    "\n",
    "merged_df['pid_count'] = merged_df.groupby('pid').cumcount()\n",
    "merged_df.loc[merged_df['pid_count'] == 0, 'TAC_class'] = 0\n",
    "merged_df.drop(columns='pid_count', inplace=True)"
   ]
  },
  {
   "cell_type": "code",
   "execution_count": 15,
   "metadata": {},
   "outputs": [
    {
     "name": "stderr",
     "output_type": "stream",
     "text": [
      "/tmp/ipykernel_52422/1368151266.py:4: FutureWarning: Series.fillna with 'method' is deprecated and will raise in a future version. Use obj.ffill() or obj.bfill() instead.\n",
      "  merged_df['TAC_class'] = merged_df['TAC_class'].fillna(method='ffill')\n"
     ]
    }
   ],
   "source": [
    "# forward filling the TAC_class field\n",
    "# start sober, sober util intoxicated read, intoxicated until next sober reading\n",
    "\n",
    "merged_df['TAC_class'] = merged_df['TAC_class'].fillna(method='ffill')"
   ]
  },
  {
   "cell_type": "code",
   "execution_count": 16,
   "metadata": {},
   "outputs": [
    {
     "data": {
      "text/html": [
       "<div>\n",
       "<style scoped>\n",
       "    .dataframe tbody tr th:only-of-type {\n",
       "        vertical-align: middle;\n",
       "    }\n",
       "\n",
       "    .dataframe tbody tr th {\n",
       "        vertical-align: top;\n",
       "    }\n",
       "\n",
       "    .dataframe thead th {\n",
       "        text-align: right;\n",
       "    }\n",
       "</style>\n",
       "<table border=\"1\" class=\"dataframe\">\n",
       "  <thead>\n",
       "    <tr style=\"text-align: right;\">\n",
       "      <th></th>\n",
       "      <th>time</th>\n",
       "      <th>pid</th>\n",
       "      <th>x</th>\n",
       "      <th>y</th>\n",
       "      <th>z</th>\n",
       "      <th>TAC_class</th>\n",
       "    </tr>\n",
       "  </thead>\n",
       "  <tbody>\n",
       "    <tr>\n",
       "      <th>0</th>\n",
       "      <td>2017-05-02 14:04:42.409</td>\n",
       "      <td>SA0297</td>\n",
       "      <td>0.075800</td>\n",
       "      <td>0.027300</td>\n",
       "      <td>-0.010200</td>\n",
       "      <td>0.0</td>\n",
       "    </tr>\n",
       "    <tr>\n",
       "      <th>1</th>\n",
       "      <td>2017-05-02 14:04:42.455</td>\n",
       "      <td>SA0297</td>\n",
       "      <td>-0.035900</td>\n",
       "      <td>0.079400</td>\n",
       "      <td>0.003700</td>\n",
       "      <td>0.0</td>\n",
       "    </tr>\n",
       "    <tr>\n",
       "      <th>2</th>\n",
       "      <td>2017-05-02 14:04:42.500</td>\n",
       "      <td>SA0297</td>\n",
       "      <td>-0.242700</td>\n",
       "      <td>-0.086100</td>\n",
       "      <td>-0.016300</td>\n",
       "      <td>0.0</td>\n",
       "    </tr>\n",
       "    <tr>\n",
       "      <th>3</th>\n",
       "      <td>2017-05-02 14:04:43.945</td>\n",
       "      <td>SA0297</td>\n",
       "      <td>-0.288800</td>\n",
       "      <td>0.051400</td>\n",
       "      <td>-0.014500</td>\n",
       "      <td>0.0</td>\n",
       "    </tr>\n",
       "    <tr>\n",
       "      <th>4</th>\n",
       "      <td>2017-05-02 14:04:43.953</td>\n",
       "      <td>SA0297</td>\n",
       "      <td>-0.041300</td>\n",
       "      <td>-0.018400</td>\n",
       "      <td>-0.010500</td>\n",
       "      <td>0.0</td>\n",
       "    </tr>\n",
       "    <tr>\n",
       "      <th>...</th>\n",
       "      <td>...</td>\n",
       "      <td>...</td>\n",
       "      <td>...</td>\n",
       "      <td>...</td>\n",
       "      <td>...</td>\n",
       "      <td>...</td>\n",
       "    </tr>\n",
       "    <tr>\n",
       "      <th>14057560</th>\n",
       "      <td>2017-05-03 16:34:08.196</td>\n",
       "      <td>CC6740</td>\n",
       "      <td>-0.133956</td>\n",
       "      <td>0.124726</td>\n",
       "      <td>-0.010736</td>\n",
       "      <td>0.0</td>\n",
       "    </tr>\n",
       "    <tr>\n",
       "      <th>14057561</th>\n",
       "      <td>2017-05-03 16:34:08.220</td>\n",
       "      <td>CC6740</td>\n",
       "      <td>-0.100764</td>\n",
       "      <td>0.180872</td>\n",
       "      <td>0.046449</td>\n",
       "      <td>0.0</td>\n",
       "    </tr>\n",
       "    <tr>\n",
       "      <th>14057562</th>\n",
       "      <td>2017-05-03 16:34:08.245</td>\n",
       "      <td>CC6740</td>\n",
       "      <td>-0.131853</td>\n",
       "      <td>0.195934</td>\n",
       "      <td>0.181088</td>\n",
       "      <td>0.0</td>\n",
       "    </tr>\n",
       "    <tr>\n",
       "      <th>14057563</th>\n",
       "      <td>2017-05-03 16:34:08.270</td>\n",
       "      <td>CC6740</td>\n",
       "      <td>-0.149704</td>\n",
       "      <td>0.194482</td>\n",
       "      <td>0.202393</td>\n",
       "      <td>0.0</td>\n",
       "    </tr>\n",
       "    <tr>\n",
       "      <th>14057564</th>\n",
       "      <td>2017-05-03 16:34:08.294</td>\n",
       "      <td>CC6740</td>\n",
       "      <td>-0.107288</td>\n",
       "      <td>0.153548</td>\n",
       "      <td>0.168595</td>\n",
       "      <td>0.0</td>\n",
       "    </tr>\n",
       "  </tbody>\n",
       "</table>\n",
       "<p>14057565 rows × 6 columns</p>\n",
       "</div>"
      ],
      "text/plain": [
       "                            time     pid         x         y         z  \\\n",
       "0        2017-05-02 14:04:42.409  SA0297  0.075800  0.027300 -0.010200   \n",
       "1        2017-05-02 14:04:42.455  SA0297 -0.035900  0.079400  0.003700   \n",
       "2        2017-05-02 14:04:42.500  SA0297 -0.242700 -0.086100 -0.016300   \n",
       "3        2017-05-02 14:04:43.945  SA0297 -0.288800  0.051400 -0.014500   \n",
       "4        2017-05-02 14:04:43.953  SA0297 -0.041300 -0.018400 -0.010500   \n",
       "...                          ...     ...       ...       ...       ...   \n",
       "14057560 2017-05-03 16:34:08.196  CC6740 -0.133956  0.124726 -0.010736   \n",
       "14057561 2017-05-03 16:34:08.220  CC6740 -0.100764  0.180872  0.046449   \n",
       "14057562 2017-05-03 16:34:08.245  CC6740 -0.131853  0.195934  0.181088   \n",
       "14057563 2017-05-03 16:34:08.270  CC6740 -0.149704  0.194482  0.202393   \n",
       "14057564 2017-05-03 16:34:08.294  CC6740 -0.107288  0.153548  0.168595   \n",
       "\n",
       "          TAC_class  \n",
       "0               0.0  \n",
       "1               0.0  \n",
       "2               0.0  \n",
       "3               0.0  \n",
       "4               0.0  \n",
       "...             ...  \n",
       "14057560        0.0  \n",
       "14057561        0.0  \n",
       "14057562        0.0  \n",
       "14057563        0.0  \n",
       "14057564        0.0  \n",
       "\n",
       "[14057565 rows x 6 columns]"
      ]
     },
     "execution_count": 16,
     "metadata": {},
     "output_type": "execute_result"
    }
   ],
   "source": [
    "merged_df"
   ]
  },
  {
   "cell_type": "code",
   "execution_count": 17,
   "metadata": {},
   "outputs": [
    {
     "data": {
      "text/plain": [
       "82.53"
      ]
     },
     "execution_count": 17,
     "metadata": {},
     "output_type": "execute_result"
    }
   ],
   "source": [
    "# Percentage of the data representing sober readings\n",
    "round((merged_df['TAC_class'] == 0).sum() / len(merged_df) * 100, 2)"
   ]
  },
  {
   "cell_type": "code",
   "execution_count": 18,
   "metadata": {},
   "outputs": [],
   "source": [
    "# merged_df.to_parquet(\"merged_data.parquet\")"
   ]
  },
  {
   "cell_type": "code",
   "execution_count": 16,
   "metadata": {},
   "outputs": [
    {
     "data": {
      "text/html": [
       "<div>\n",
       "<style scoped>\n",
       "    .dataframe tbody tr th:only-of-type {\n",
       "        vertical-align: middle;\n",
       "    }\n",
       "\n",
       "    .dataframe tbody tr th {\n",
       "        vertical-align: top;\n",
       "    }\n",
       "\n",
       "    .dataframe thead th {\n",
       "        text-align: right;\n",
       "    }\n",
       "</style>\n",
       "<table border=\"1\" class=\"dataframe\">\n",
       "  <thead>\n",
       "    <tr style=\"text-align: right;\">\n",
       "      <th></th>\n",
       "      <th>time</th>\n",
       "      <th>pid</th>\n",
       "      <th>x</th>\n",
       "      <th>y</th>\n",
       "      <th>z</th>\n",
       "      <th>TAC_class</th>\n",
       "    </tr>\n",
       "  </thead>\n",
       "  <tbody>\n",
       "    <tr>\n",
       "      <th>0</th>\n",
       "      <td>2017-05-02 14:04:42.409</td>\n",
       "      <td>SA0297</td>\n",
       "      <td>0.075800</td>\n",
       "      <td>0.027300</td>\n",
       "      <td>-0.010200</td>\n",
       "      <td>0.0</td>\n",
       "    </tr>\n",
       "    <tr>\n",
       "      <th>1</th>\n",
       "      <td>2017-05-02 14:04:42.455</td>\n",
       "      <td>SA0297</td>\n",
       "      <td>-0.035900</td>\n",
       "      <td>0.079400</td>\n",
       "      <td>0.003700</td>\n",
       "      <td>0.0</td>\n",
       "    </tr>\n",
       "    <tr>\n",
       "      <th>2</th>\n",
       "      <td>2017-05-02 14:04:42.500</td>\n",
       "      <td>SA0297</td>\n",
       "      <td>-0.242700</td>\n",
       "      <td>-0.086100</td>\n",
       "      <td>-0.016300</td>\n",
       "      <td>0.0</td>\n",
       "    </tr>\n",
       "    <tr>\n",
       "      <th>3</th>\n",
       "      <td>2017-05-02 14:04:43.945</td>\n",
       "      <td>SA0297</td>\n",
       "      <td>-0.288800</td>\n",
       "      <td>0.051400</td>\n",
       "      <td>-0.014500</td>\n",
       "      <td>0.0</td>\n",
       "    </tr>\n",
       "    <tr>\n",
       "      <th>4</th>\n",
       "      <td>2017-05-02 14:04:43.953</td>\n",
       "      <td>SA0297</td>\n",
       "      <td>-0.041300</td>\n",
       "      <td>-0.018400</td>\n",
       "      <td>-0.010500</td>\n",
       "      <td>0.0</td>\n",
       "    </tr>\n",
       "    <tr>\n",
       "      <th>...</th>\n",
       "      <td>...</td>\n",
       "      <td>...</td>\n",
       "      <td>...</td>\n",
       "      <td>...</td>\n",
       "      <td>...</td>\n",
       "      <td>...</td>\n",
       "    </tr>\n",
       "    <tr>\n",
       "      <th>14057560</th>\n",
       "      <td>2017-05-03 16:34:08.196</td>\n",
       "      <td>CC6740</td>\n",
       "      <td>-0.133956</td>\n",
       "      <td>0.124726</td>\n",
       "      <td>-0.010736</td>\n",
       "      <td>0.0</td>\n",
       "    </tr>\n",
       "    <tr>\n",
       "      <th>14057561</th>\n",
       "      <td>2017-05-03 16:34:08.220</td>\n",
       "      <td>CC6740</td>\n",
       "      <td>-0.100764</td>\n",
       "      <td>0.180872</td>\n",
       "      <td>0.046449</td>\n",
       "      <td>0.0</td>\n",
       "    </tr>\n",
       "    <tr>\n",
       "      <th>14057562</th>\n",
       "      <td>2017-05-03 16:34:08.245</td>\n",
       "      <td>CC6740</td>\n",
       "      <td>-0.131853</td>\n",
       "      <td>0.195934</td>\n",
       "      <td>0.181088</td>\n",
       "      <td>0.0</td>\n",
       "    </tr>\n",
       "    <tr>\n",
       "      <th>14057563</th>\n",
       "      <td>2017-05-03 16:34:08.270</td>\n",
       "      <td>CC6740</td>\n",
       "      <td>-0.149704</td>\n",
       "      <td>0.194482</td>\n",
       "      <td>0.202393</td>\n",
       "      <td>0.0</td>\n",
       "    </tr>\n",
       "    <tr>\n",
       "      <th>14057564</th>\n",
       "      <td>2017-05-03 16:34:08.294</td>\n",
       "      <td>CC6740</td>\n",
       "      <td>-0.107288</td>\n",
       "      <td>0.153548</td>\n",
       "      <td>0.168595</td>\n",
       "      <td>0.0</td>\n",
       "    </tr>\n",
       "  </tbody>\n",
       "</table>\n",
       "<p>14057565 rows × 6 columns</p>\n",
       "</div>"
      ],
      "text/plain": [
       "                            time     pid         x         y         z  \\\n",
       "0        2017-05-02 14:04:42.409  SA0297  0.075800  0.027300 -0.010200   \n",
       "1        2017-05-02 14:04:42.455  SA0297 -0.035900  0.079400  0.003700   \n",
       "2        2017-05-02 14:04:42.500  SA0297 -0.242700 -0.086100 -0.016300   \n",
       "3        2017-05-02 14:04:43.945  SA0297 -0.288800  0.051400 -0.014500   \n",
       "4        2017-05-02 14:04:43.953  SA0297 -0.041300 -0.018400 -0.010500   \n",
       "...                          ...     ...       ...       ...       ...   \n",
       "14057560 2017-05-03 16:34:08.196  CC6740 -0.133956  0.124726 -0.010736   \n",
       "14057561 2017-05-03 16:34:08.220  CC6740 -0.100764  0.180872  0.046449   \n",
       "14057562 2017-05-03 16:34:08.245  CC6740 -0.131853  0.195934  0.181088   \n",
       "14057563 2017-05-03 16:34:08.270  CC6740 -0.149704  0.194482  0.202393   \n",
       "14057564 2017-05-03 16:34:08.294  CC6740 -0.107288  0.153548  0.168595   \n",
       "\n",
       "          TAC_class  \n",
       "0               0.0  \n",
       "1               0.0  \n",
       "2               0.0  \n",
       "3               0.0  \n",
       "4               0.0  \n",
       "...             ...  \n",
       "14057560        0.0  \n",
       "14057561        0.0  \n",
       "14057562        0.0  \n",
       "14057563        0.0  \n",
       "14057564        0.0  \n",
       "\n",
       "[14057565 rows x 6 columns]"
      ]
     },
     "execution_count": 16,
     "metadata": {},
     "output_type": "execute_result"
    }
   ],
   "source": [
    "merged_df = pd.read_parquet(\"merged_data.parquet\")\n",
    "\n",
    "merged_df"
   ]
  },
  {
   "cell_type": "markdown",
   "metadata": {},
   "source": [
    "## Upsampling Accelerometer Data"
   ]
  },
  {
   "cell_type": "code",
   "execution_count": 20,
   "metadata": {},
   "outputs": [],
   "source": [
    "def upsample_data_250hz(df):\n",
    "\n",
    "    upsampled_dfs = {}\n",
    "    pids = list(df['pid'].unique())\n",
    "\n",
    "    for pid in tqdm(pids):\n",
    "        pid_df = df[df['pid'] == pid]\n",
    "\n",
    "        # there are sometimes multiple instances of the same milisecond.\n",
    "        pid_df = pid_df.drop_duplicates(\"time\")\n",
    "        \n",
    "        pid_df.set_index('time', inplace=True)\n",
    "        \n",
    "        upsampled_df = pid_df.resample('4ms').ffill()\n",
    "        upsampled_df['pid'] = pid\n",
    "        upsampled_df.reset_index(inplace=True)\n",
    "        upsampled_df = upsampled_df.dropna()\n",
    "\n",
    "        print(f\"{pid} dataframe length - {len(upsampled_df)}\")\n",
    "        upsampled_dfs[pid] = upsampled_df\n",
    "\n",
    "    return upsampled_dfs\n"
   ]
  },
  {
   "cell_type": "code",
   "execution_count": null,
   "metadata": {},
   "outputs": [],
   "source": [
    "df_list_250hz = upsample_data_250hz(merged_df)"
   ]
  },
  {
   "cell_type": "code",
   "execution_count": 18,
   "metadata": {},
   "outputs": [
    {
     "ename": "NameError",
     "evalue": "name 'df_list_250hz' is not defined",
     "output_type": "error",
     "traceback": [
      "\u001b[0;31m---------------------------------------------------------------------------\u001b[0m",
      "\u001b[0;31mNameError\u001b[0m                                 Traceback (most recent call last)",
      "Cell \u001b[0;32mIn[18], line 1\u001b[0m\n\u001b[0;32m----> 1\u001b[0m \u001b[43mdf_list_250hz\u001b[49m[\u001b[38;5;124m'\u001b[39m\u001b[38;5;124mBU4707\u001b[39m\u001b[38;5;124m'\u001b[39m]\n",
      "\u001b[0;31mNameError\u001b[0m: name 'df_list_250hz' is not defined"
     ]
    }
   ],
   "source": [
    "df_list_250hz['BU4707']"
   ]
  },
  {
   "cell_type": "code",
   "execution_count": 19,
   "metadata": {},
   "outputs": [
    {
     "ename": "NameError",
     "evalue": "name 'df_list_250hz' is not defined",
     "output_type": "error",
     "traceback": [
      "\u001b[0;31m---------------------------------------------------------------------------\u001b[0m",
      "\u001b[0;31mNameError\u001b[0m                                 Traceback (most recent call last)",
      "Cell \u001b[0;32mIn[19], line 1\u001b[0m\n\u001b[0;32m----> 1\u001b[0m \u001b[38;5;28;01mfor\u001b[39;00m key \u001b[38;5;129;01min\u001b[39;00m \u001b[43mdf_list_250hz\u001b[49m\u001b[38;5;241m.\u001b[39mkeys():\n\u001b[1;32m      2\u001b[0m     df_list_250hz[key]\u001b[38;5;241m.\u001b[39mto_parquet(\u001b[38;5;124mf\u001b[39m\u001b[38;5;124m\"\u001b[39m\u001b[38;5;132;01m{\u001b[39;00mkey\u001b[38;5;132;01m}\u001b[39;00m\u001b[38;5;124m_250hz.parquet\u001b[39m\u001b[38;5;124m\"\u001b[39m)\n",
      "\u001b[0;31mNameError\u001b[0m: name 'df_list_250hz' is not defined"
     ]
    }
   ],
   "source": [
    "for key in df_list_250hz.keys():\n",
    "    df_list_250hz[key].to_parquet(f\"{key}_250hz.parquet\")"
   ]
  },
  {
   "cell_type": "code",
   "execution_count": null,
   "metadata": {},
   "outputs": [],
   "source": []
  }
 ],
 "metadata": {
  "kernelspec": {
   "display_name": "Python 3",
   "language": "python",
   "name": "python3"
  },
  "language_info": {
   "codemirror_mode": {
    "name": "ipython",
    "version": 3
   },
   "file_extension": ".py",
   "mimetype": "text/x-python",
   "name": "python",
   "nbconvert_exporter": "python",
   "pygments_lexer": "ipython3",
   "version": "3.10.12"
  }
 },
 "nbformat": 4,
 "nbformat_minor": 2
}
